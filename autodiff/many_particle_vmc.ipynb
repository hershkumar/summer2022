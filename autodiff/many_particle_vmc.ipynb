{
 "cells": [
  {
   "cell_type": "code",
   "execution_count": 1,
   "metadata": {},
   "outputs": [],
   "source": [
    "import numpy as np\n",
    "import jax.numpy as jnp\n",
    "from matplotlib import pyplot as plt\n",
    "import matplotlib.animation as animation\n",
    "from pylab import figure, cm\n",
    "import random\n",
    "from jax import grad, hessian, jit, vmap\n",
    "import time\n",
    "from IPython.display import clear_output\n",
    "\n",
    "\n",
    "m = 1.0\n",
    "omega = 1.0\n",
    "# lam = 0\n",
    "hbar = 1.0\n",
    "R = .5\n",
    "# number of parameters in the ansatz\n",
    "num_params = 1\n",
    "# number of coordinates in the ansatz\n",
    "num_coords = 1\n",
    "times = []\n",
    "seed = 5\n",
    "cfactor = .439911\n",
    "\n",
    "# define the wavefunction ansatz\n",
    "@jit \n",
    "def psi(coords, params):\n",
    "    #return jnp.exp(-.5 *(coords[0]**2 + coords[1]**2))*(params[0]+params[1]*(coords[0] - coords[1]) + params[2]*(coords[0] - coords[1])**2)\n",
    "    return jnp.exp(-coords[0]**2 - params[0]*coords[0])\n",
    "\n",
    "def psi_neg(coords, params):\n",
    "    return 1/psi(coords, params)\n",
    "psi_negj = jit(psi_neg)\n",
    "def logpsi(coords, params):\n",
    "    return jnp.log(psi(coords, params))\n",
    "logpsij = jit(logpsi)\n",
    "\n",
    "h = hessian(psi)\n",
    "def ddpsi(coords, params):\n",
    "    return jnp.diagonal(h(coords, params))\n",
    "    # return h(coords, params)[i][i]\n",
    "\n",
    "partials = jit(grad(logpsij, argnums=1))\n",
    "\n",
    "@jit\n",
    "def V(coords, l):\n",
    "    return .5 *m* omega**2 * (coords[0]**2 + coords[1] ** 2) + l * jnp.exp(-((coords[0] - coords[1])/R)**2)\n",
    "\n",
    "def Hpsi(coords, params, l):\n",
    "    hpsi = Vj(coords, l) * psi(coords, params) - hbar**2/(2*m) * jnp.sum(ddpsi(coords, params))\n",
    "    return hpsi\n",
    "\n",
    "\n",
    "def sample(params, num_samples):\n",
    "    # random.seed(seed)\n",
    "    outputs = []\n",
    "    coords_t = np.zeros(num_coords)\n",
    "    for _ in range(num_samples):\n",
    "        coords_prime = coords_t + np.random.uniform(-1,1,num_coords)\n",
    "        if (np.random.uniform(0,1) < psi(coords_prime, params)**2/psi(coords_t, params)**2):\n",
    "            coords_t = coords_prime\n",
    "        outputs.append(coords_t)\n",
    "    return jnp.array(outputs)\n",
    "\n",
    "\n",
    "# jitted functions\n",
    "Hpsij = jit(Hpsi)\n",
    "Vj = jit(V)\n",
    "# vectorized functions\n",
    "vgradlogs = vmap(partials, in_axes=(0, None), out_axes=0)\n",
    "vpsi_neg = vmap(psi_negj, in_axes=(0, None), out_axes=0)\n",
    "vhpsis = vmap(Hpsij, in_axes=(0, None, None), out_axes=0)\n",
    "# vboth = vmap(jit(jnp.multiply), in_axes=(0, 0), out_axes=0)\n",
    "vboth = vmap(jnp.multiply, in_axes=(0, 0), out_axes=0)\n",
    "\n",
    "\n",
    "def avg_energy(params, l , N=10**3):\n",
    "    # get N sampled points\n",
    "    samples = sample(params, N)\n",
    "    # apply the function to every point\n",
    "    hpsis = vhpsis(samples, params, l)\n",
    "    psi_neg = vpsi_neg(samples, params)\n",
    "    psi_neg_times_hpsis = jnp.multiply(psi_neg, hpsis)\n",
    "    return 1/N * jnp.sum(psi_neg_times_hpsis)\n",
    "\n",
    "# optimized gradient code, using vectorization and jitted functions \n",
    "def vgradient(params, l, N):\n",
    "    samples = sample(params, N)\n",
    "    \n",
    "    gradlogs = vgradlogs(samples, params)\n",
    "    hpsis = vhpsis(samples, params, l)\n",
    "    psi_neg = vpsi_neg(samples, params)\n",
    "\n",
    "\n",
    "    psi_neg_times_hpsis = jnp.multiply(psi_neg, hpsis)\n",
    "    # now compute the 3 different averages\n",
    "    energy_exp = 1/N * jnp.sum(psi_neg_times_hpsis)\n",
    "    # print(\"Average Energy: \" + str(energy_exp))\n",
    "    gradlogpsi_exp = 1/N * jnp.sum(gradlogs, 0)\n",
    "    \n",
    "    # both_exp = 1/N * jnp.sum(jnp.array([(psi_neg_times_hpsis[i] * gradlogs[i]) for i in range(len(samples))]), 0)\n",
    "    both_exp = 1/N * jnp.sum(vboth(psi_neg_times_hpsis, gradlogs), 0)\n",
    "    return (2 * both_exp - 2 * energy_exp * gradlogpsi_exp)\n",
    "\n",
    "def gradient(params, N):\n",
    "    samples = sample(params, N)\n",
    "    # first compute all used values to decrease recomputation\n",
    "    gradlogs = [partials(coords, params) for coords in samples]\n",
    "    \n",
    "    psi_neg = [1/psi(coords, params) for coords in samples]\n",
    "    \n",
    "    hpsis = [Hpsi(coords, params) for coords in samples]\n",
    "    \n",
    "    psi_neg_times_hpsis = [(psi_neg[i] * hpsis[i]) for i in range(len(samples))]\n",
    "    # now compute the 3 different averages\n",
    "    energy_exp = 1/N * sum([psi_neg_times_hpsis[i] for i in range(len(samples))])\n",
    "    print(\"Average Energy: \" + str(energy_exp))\n",
    "    gradlogpsi_exp = 1/N * sum(gradlogs, 0)\n",
    "    both_exp = 1/N * sum([(psi_neg_times_hpsis[i] * gradlogs[i]) for i in range(len(samples))], 0)\n",
    "    return (2 * both_exp - 2 * energy_exp * gradlogpsi_exp)\n",
    "\n",
    "def grad_opt(start_params, learning_rate=.1, max_iterations=100, tolerance=.01, N=10**3):\n",
    "    # pick the starting position\n",
    "    params = start_params\n",
    "    hist = []\n",
    "    # iterate until we run out of iterations or less than tolerance\n",
    "    for it in range(max_iterations):\n",
    "        clear_output(wait=True)\n",
    "        # compute the gradient at that point\n",
    "        diff = np.asarray((learning_rate * gradient(params, N)))\n",
    "        if all((abs(val) < tolerance) for val in diff):\n",
    "            print(\"All under tolerance\")\n",
    "            return hist\n",
    "        # make a step in the direction opposite the gradient\n",
    "        params = params - diff\n",
    "        # print(params)\n",
    "        hist.append(params)\n",
    "    return hist\n",
    "\n",
    "def vgrad_opt(start_params, l, learning_rate=.1, max_iterations=100, tolerance=.01, N=10**3):\n",
    "    # pick the starting position\n",
    "    params = start_params\n",
    "    hist = [start_params]\n",
    "    # iterate until we run out of iterations or less than tolerance\n",
    "    for it in range(max_iterations):\n",
    "        #clear_output(wait=True)\n",
    "        # compute the gradient at that point\n",
    "        diff = jnp.asarray((learning_rate * vgradient(params, l, N)))\n",
    "        if all((abs(val) < tolerance) for val in diff):\n",
    "            # print(\"All under tolerance\")\n",
    "            return hist\n",
    "        # make a step in the direction opposite the gradient\n",
    "        params = params - diff\n",
    "        # print(params)\n",
    "        hist.append(params)\n",
    "    return hist"
   ]
  },
  {
   "cell_type": "code",
   "execution_count": 2,
   "metadata": {},
   "outputs": [
    {
     "name": "stdout",
     "output_type": "stream",
     "text": [
      "[0.24637848]\n",
      "0.8206206\n",
      "1.0439911\n"
     ]
    }
   ],
   "source": [
    "start = jnp.array([.5])\n",
    "hist = vgrad_opt(start, l=.1, N=10**3)\n",
    "optd = hist[-1]\n",
    "print(optd)\n",
    "print(avg_energy(optd, l=.1))\n",
    "energy_exp = 1 + .1 * cfactor\n",
    "print(energy_exp)"
   ]
  },
  {
   "cell_type": "code",
   "execution_count": 3,
   "metadata": {},
   "outputs": [],
   "source": [
    "# get a contour plot of the wavefunction\n",
    "size = 100\n",
    "xmin = -5\n",
    "xmax = 5\n",
    "ymin = -5\n",
    "ymax = 5\n",
    "\n",
    "X = np.linspace(xmin, xmax, size)\n",
    "Y = np.linspace(ymin, ymax, size)\n",
    "Z = [[psi([i, j], optd) for i in X] for j in Y]"
   ]
  },
  {
   "cell_type": "code",
   "execution_count": 4,
   "metadata": {},
   "outputs": [
    {
     "name": "stdout",
     "output_type": "stream",
     "text": [
      "[0.24637848]\n"
     ]
    },
    {
     "data": {
      "image/png": "[encoded data removed]",
      "text/plain": [
       "<Figure size 640x480 with 1 Axes>"
      ]
     },
     "metadata": {},
     "output_type": "display_data"
    }
   ],
   "source": [
    "print(optd)\n",
    "plt.title(r\"$\\lambda = 10$, $R = .2$\")\n",
    "plt.imshow(Z,extent=[xmin, xmax, ymin, ymax], cmap=cm.jet, origin='lower')\n",
    "# plt.contour(X,Y,Z)/\n",
    "plt.show()"
   ]
  },
  {
   "cell_type": "code",
   "execution_count": 5,
   "metadata": {},
   "outputs": [],
   "source": [
    "## get the data for a series of plots with varying lambda levels\n",
    "lambdas = np.linspace(0, 10, 30)\n",
    "wfs = []\n",
    "for i in range(len(lambdas)):\n",
    "    if i == 0:\n",
    "        start = jnp.array([.5,.5,.5])\n",
    "    else:\n",
    "        start = wfs[i - 1]\n",
    "\n",
    "    # do the optimization\n",
    "    hist = vgrad_opt(start, lambdas[i])\n",
    "    wfs.append(hist[-1])"
   ]
  },
  {
   "cell_type": "code",
   "execution_count": 7,
   "metadata": {},
   "outputs": [
    {
     "ename": "NameError",
     "evalue": "name 'psij' is not defined",
     "output_type": "error",
     "traceback": [
      "\u001b[0;31m---------------------------------------------------------------------------\u001b[0m",
      "\u001b[0;31mNameError\u001b[0m                                 Traceback (most recent call last)",
      "\u001b[1;32m/Users/hersh/Documents/School/summer2022/autodiff/many_particle_vmc.ipynb Cell 6\u001b[0m in \u001b[0;36m1\n\u001b[1;32m      <a href='vscode-notebook-cell:/Users/hersh/Documents/School/summer2022/autodiff/many_particle_vmc.ipynb#W5sZmlsZQ%3D%3D?line=8'>9</a>\u001b[0m meshes \u001b[39m=\u001b[39m []\n\u001b[1;32m     <a href='vscode-notebook-cell:/Users/hersh/Documents/School/summer2022/autodiff/many_particle_vmc.ipynb#W5sZmlsZQ%3D%3D?line=10'>11</a>\u001b[0m \u001b[39mfor\u001b[39;00m k \u001b[39min\u001b[39;00m \u001b[39mrange\u001b[39m(\u001b[39mlen\u001b[39m(lambdas)):\n\u001b[0;32m---> <a href='vscode-notebook-cell:/Users/hersh/Documents/School/summer2022/autodiff/many_particle_vmc.ipynb#W5sZmlsZQ%3D%3D?line=11'>12</a>\u001b[0m     meshes\u001b[39m.\u001b[39mappend([[psij([i, j], wfs[k]) \u001b[39mfor\u001b[39;00m i \u001b[39min\u001b[39;00m X] \u001b[39mfor\u001b[39;00m j \u001b[39min\u001b[39;00m Y])\n",
      "\u001b[1;32m/Users/hersh/Documents/School/summer2022/autodiff/many_particle_vmc.ipynb Cell 6\u001b[0m in \u001b[0;36m1\n\u001b[1;32m      <a href='vscode-notebook-cell:/Users/hersh/Documents/School/summer2022/autodiff/many_particle_vmc.ipynb#W5sZmlsZQ%3D%3D?line=8'>9</a>\u001b[0m meshes \u001b[39m=\u001b[39m []\n\u001b[1;32m     <a href='vscode-notebook-cell:/Users/hersh/Documents/School/summer2022/autodiff/many_particle_vmc.ipynb#W5sZmlsZQ%3D%3D?line=10'>11</a>\u001b[0m \u001b[39mfor\u001b[39;00m k \u001b[39min\u001b[39;00m \u001b[39mrange\u001b[39m(\u001b[39mlen\u001b[39m(lambdas)):\n\u001b[0;32m---> <a href='vscode-notebook-cell:/Users/hersh/Documents/School/summer2022/autodiff/many_particle_vmc.ipynb#W5sZmlsZQ%3D%3D?line=11'>12</a>\u001b[0m     meshes\u001b[39m.\u001b[39mappend([[psij([i, j], wfs[k]) \u001b[39mfor\u001b[39;00m i \u001b[39min\u001b[39;00m X] \u001b[39mfor\u001b[39;00m j \u001b[39min\u001b[39;00m Y])\n",
      "\u001b[1;32m/Users/hersh/Documents/School/summer2022/autodiff/many_particle_vmc.ipynb Cell 6\u001b[0m in \u001b[0;36m1\n\u001b[1;32m      <a href='vscode-notebook-cell:/Users/hersh/Documents/School/summer2022/autodiff/many_particle_vmc.ipynb#W5sZmlsZQ%3D%3D?line=8'>9</a>\u001b[0m meshes \u001b[39m=\u001b[39m []\n\u001b[1;32m     <a href='vscode-notebook-cell:/Users/hersh/Documents/School/summer2022/autodiff/many_particle_vmc.ipynb#W5sZmlsZQ%3D%3D?line=10'>11</a>\u001b[0m \u001b[39mfor\u001b[39;00m k \u001b[39min\u001b[39;00m \u001b[39mrange\u001b[39m(\u001b[39mlen\u001b[39m(lambdas)):\n\u001b[0;32m---> <a href='vscode-notebook-cell:/Users/hersh/Documents/School/summer2022/autodiff/many_particle_vmc.ipynb#W5sZmlsZQ%3D%3D?line=11'>12</a>\u001b[0m     meshes\u001b[39m.\u001b[39mappend([[psij([i, j], wfs[k]) \u001b[39mfor\u001b[39;00m i \u001b[39min\u001b[39;00m X] \u001b[39mfor\u001b[39;00m j \u001b[39min\u001b[39;00m Y])\n",
      "\u001b[0;31mNameError\u001b[0m: name 'psij' is not defined"
     ]
    }
   ],
   "source": [
    "# now make a series of plots with all the data\n",
    "size = 100\n",
    "xmin = -5\n",
    "xmax = 5\n",
    "ymin = -5\n",
    "ymax = 5\n",
    "X = np.linspace(xmin, xmax, size)\n",
    "Y = np.linspace(ymin, ymax, size)\n",
    "meshes = []\n",
    "\n",
    "for k in range(len(lambdas)):\n",
    "    meshes.append([[psi([i, j], wfs[k]) for i in X] for j in Y])"
   ]
  },
  {
   "cell_type": "code",
   "execution_count": null,
   "metadata": {},
   "outputs": [
    {
     "data": {
      "image/png": "[encoded data removed]",
      "text/plain": [
       "<Figure size 432x288 with 1 Axes>"
      ]
     },
     "metadata": {
      "needs_background": "light"
     },
     "output_type": "display_data"
    }
   ],
   "source": [
    "\n",
    "fig = plt.figure()\n",
    "plt.xlabel(r\"$x_1$\")\n",
    "plt.ylabel(r\"$x_2$\")\n",
    "im = plt.imshow(meshes[0], cmap=plt.get_cmap('jet'), extent=[xmin, xmax, ymin, ymax], origin='lower')\n",
    "# im = plt.contour(X,Y, meshes[0])\n",
    "\n",
    "def updatefig(j):\n",
    "    # set the data in the axesimage object\n",
    "    im.set_array(meshes[j])\n",
    "    # return the artists set\n",
    "    return [im]\n",
    "\n",
    "\n",
    "ani = animation.FuncAnimation(fig, updatefig, frames=range(len(lambdas)), \n",
    "                              interval=200, blit=False)\n",
    "f = r\"animation.gif\" \n",
    "writergif = animation.PillowWriter(fps=5) \n",
    "ani.save(f, writer=writergif)\n"
   ]
  },
  {
   "cell_type": "code",
   "execution_count": null,
   "metadata": {},
   "outputs": [],
   "source": [
    "## plotting lambda vs min energy\n",
    "energies = []\n",
    "expected = []\n",
    "for i in range(len(lambdas)):\n",
    "    params = wfs[i]\n",
    "    energy = avg_energy(params, lambdas[i], 10**3)\n",
    "    energies.append(energy)\n",
    "    expected.append(1 + lambdas[i] * cfactor)"
   ]
  },
  {
   "cell_type": "code",
   "execution_count": null,
   "metadata": {},
   "outputs": [
    {
     "data": {
      "image/png": "[encoded data removed]",
      "text/plain": [
       "<Figure size 432x288 with 1 Axes>"
      ]
     },
     "metadata": {
      "needs_background": "light"
     },
     "output_type": "display_data"
    }
   ],
   "source": [
    "plt.scatter(lambdas, energies)\n",
    "# plt.plot(lambdas, expected)\n",
    "plt.title(r\"$\\lambda$ vs. Minimized Energy\")\n",
    "plt.xlabel(r\"$\\lambda$\")\n",
    "plt.ylabel(\"Minimized Energy\")\n",
    "plt.show()"
   ]
  }
 ],
 "metadata": {
  "kernelspec": {
   "display_name": "Python 3.10.8 64-bit",
   "language": "python",
   "name": "python3"
  },
  "language_info": {
   "codemirror_mode": {
    "name": "ipython",
    "version": 3
   },
   "file_extension": ".py",
   "mimetype": "text/x-python",
   "name": "python",
   "nbconvert_exporter": "python",
   "pygments_lexer": "ipython3",
   "version": "3.10.10"
  },
  "orig_nbformat": 4,
  "vscode": {
   "interpreter": {
    "hash": "b0fa6594d8f4cbf19f97940f81e996739fb7646882a419484c72d19e05852a7e"
   }
  }
 },
 "nbformat": 4,
 "nbformat_minor": 2
}
