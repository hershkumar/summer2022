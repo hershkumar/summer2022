{
 "cells": [
  {
   "cell_type": "code",
   "execution_count": 2,
   "metadata": {},
   "outputs": [],
   "source": [
    "import numpy as np\n",
    "import jax.numpy as jnp\n",
    "from matplotlib import pyplot as plt\n",
    "import matplotlib.animation as animation\n",
    "from pylab import figure, cm\n",
    "from jax import grad, hessian, jit, vmap\n",
    "import time\n",
    "from functools import partial\n",
    "from IPython.display import clear_output\n",
    "\n",
    "N = 2\n",
    "# true_E = N*omega/2 -  g**2/24 * N * (N**2 - 1)\n",
    "omega = 1\n",
    "g = 1\n",
    "hbar = 1\n",
    "m = 1"
   ]
  },
  {
   "cell_type": "code",
   "execution_count": 3,
   "metadata": {},
   "outputs": [],
   "source": [
    "\n",
    "class Network:\n",
    "    def __init__(self, node_counts=[N, 10, 5, 1]):\n",
    "        # defining the structure of the neural network\n",
    "        self.num_layers = len(node_counts)\n",
    "        # the number of nodes for each layer\n",
    "        self.node_counts = node_counts\n",
    "        # the total number of weights\n",
    "        self.params_length = 0\n",
    "        for i in range(self.num_layers - 1):\n",
    "            self.params_length += node_counts[i] * node_counts[i + 1]\n",
    "            i+=1\n",
    "        # the list that stores the weight matrices (index 0 is the connections from the input to the first hidden layer)\n",
    "        self.weights = []\n",
    "        # generate weight matrices with the correct sizes, and random elements\n",
    "        for i in range(self.num_layers - 1):\n",
    "            self.weights.append(np.random.randn(node_counts[i + 1], node_counts[i]) * np.sqrt(1. / node_counts[i + 1]))\n",
    "        self.weights = np.array(self.weights, dtype=object)\n",
    "        \n",
    "        # get the shape for reshaping a 1d array to this later\n",
    "        self.dimensions = []\n",
    "        for m in self.weights:\n",
    "            self.dimensions.append(m.shape)\n",
    "\n",
    "    # define the activation function that we use for the layers\n",
    "    @partial(jit, static_argnums=[0])\n",
    "    def l_act(self, x):\n",
    "        return 1.0 / (1.0 + jnp.exp(-x))    \n",
    "    # define the activation function for the output\n",
    "    @partial(jit, static_argnums=[0])\n",
    "    def o_act(self, x):\n",
    "        return 1.0 / (1.0 + jnp.exp(-x))\n",
    "    \n",
    "    @partial(jit, static_argnums=(0,))\n",
    "    def conv1d(self):\n",
    "        #start = time.time()\n",
    "        flattened = []\n",
    "        # loop through each matrix\n",
    "        for m in range(self.num_layers - 1):\n",
    "            mat = self.weights[m]\n",
    "            for i in range(mat.shape[0]):\n",
    "                for j in range(mat.shape[1]):\n",
    "                    flattened.append(mat[i][j])\n",
    "        #end = time.time()\n",
    "        #print(\"conv1d: \" + str(end - start))\n",
    "        return jnp.array(flattened)\n",
    "        \n",
    "    @partial(jit, static_argnums=(0,))\n",
    "    def convnd(self, params):\n",
    "        #start = time.time()\n",
    "        ret = []\n",
    "        # the last index of the matrix\n",
    "        max_ind = 0\n",
    "        prev_ind = 0\n",
    "        for dim in self.dimensions:\n",
    "            max_ind += dim[0]*dim[1]\n",
    "            temp = params[prev_ind : max_ind]\n",
    "            prev_ind = max_ind\n",
    "            ret.append(jnp.array(temp).reshape(dim))\n",
    "        #end = time.time()\n",
    "        #print(\"convnd: \" + str(end - start))\n",
    "        return ret\n",
    "\n",
    "\n",
    "    # passing inputs into the neural network and getting an output\n",
    "    @partial(jit, static_argnums=[0])\n",
    "    def output(self, coords, params):\n",
    "        # start = time.time()\n",
    "        # sort the input coordinates in order to enforce particle swap invariance\n",
    "        coords = jnp.asarray(coords)\n",
    "        jnp.sort(coords)\n",
    "        # format the parameters as weights\n",
    "        self.weights = self.convnd(params)\n",
    "        # compute the output of the neural network\n",
    "        for i in range(self.num_layers - 1):\n",
    "            w = jnp.array(self.weights[i])\n",
    "            # if its the first layer, dot it against the input and use the activation function\n",
    "            if i == 0:\n",
    "                temp = self.l_act(jnp.dot(w, coords))\n",
    "            elif (i < self.num_layers):\n",
    "                temp = self.l_act(jnp.dot(w, temp))\n",
    "            else:\n",
    "                # on the output layer we se the output activation function\n",
    "                temp = self.o_act(jnp.dot(w, temp))\n",
    "        # print(\"output:\" + str(time.time() -  start))\n",
    "        return temp[0]\n",
    "\n",
    "# create the network object\n",
    "nn = Network()\n",
    "\n",
    "# defines the wavefunction based on calls to the neural network\n",
    "@jit\n",
    "def psi(coords, params):\n",
    "    return jnp.exp(-nn.output(coords, params))\n",
    "\n",
    "def sample(params, num_particles, num_samples):\n",
    "    # random.seed(seed)\n",
    "    outputs = []\n",
    "    coords_t = np.zeros(num_particles)\n",
    "    for _ in range(num_samples):\n",
    "        coords_prime = coords_t + np.random.uniform(-1,1,num_particles)\n",
    "        if (np.random.uniform(0,1) < psi(coords_prime, params)**2/psi(coords_t, params)**2):\n",
    "            coords_t = coords_prime\n",
    "        outputs.append(coords_t)\n",
    "    return jnp.array(outputs)\n",
    "\n",
    "\n",
    "# computes the hessian matrix, has all the second order partials\n",
    "h = jit(hessian(psi))\n",
    "# return the second derivative of the wavefunction with respect to every parameter\n",
    "@jit\n",
    "def ddpsi(coords, params):\n",
    "    return jnp.diagonal(h(coords, params))\n",
    "\n",
    "# to compute the energy, we want to split it into repeated chunks\n",
    "# 1/psi * H psi\n",
    "@partial(jit, static_argnums=[2,3,4])\n",
    "def energy(coords, params, omega, g, num_particles):\n",
    "    result = 0\n",
    "    # first get the value of the wavefunction to store\n",
    "    temppsi = psi(coords, params)\n",
    "    # then loop over all particles\n",
    "    for i in range(num_particles):\n",
    "        # harmonic oscillator potential and second derivative\n",
    "        result += .5*m*omega**2*coords[i]**2*temppsi - hbar**2/(2*m) * jnp.sum(ddpsi(coords, params))\n",
    "    # now moving to the second section\n",
    "    for j in range(1, num_particles):\n",
    "        for i in range(j - 1):\n",
    "            result -= temppsi * m * omega * g/hbar * jnp.abs(coords[i] - coords[j])\n",
    "            # the delta function part\n",
    "            # get the modified input, make coords[i] and coords[j] the same\n",
    "            delta = jnp.copy(coords)\n",
    "            delta = delta.at[i].set(delta[j])\n",
    "            result += g * psi(delta, params)\n",
    "    return result * (1/temppsi)\n",
    "\n",
    "venergy = vmap(energy, in_axes=(0, None, None, None, None), out_axes=0)\n",
    "\n",
    "# dlogpsi/dtheta\n",
    "@jit\n",
    "def logpsi(coords, params):\n",
    "    return jnp.log(psi(coords, params))\n",
    "\n",
    "# define the derivative with respect to every parameter of the log of psi:\n",
    "dlogpsi_dtheta_stored = jit(grad(logpsi, 1))\n",
    "\n",
    "vlog_term = jit(vmap(dlogpsi_dtheta_stored, in_axes=(0, None), out_axes=0))\n",
    "\n",
    "vboth = vmap(jnp.multiply, in_axes=(0, 0), out_axes=0)\n",
    "\n",
    "def avg_energy(params, omega, g, num_particles, num_samples=10**3):\n",
    "    # first we get a set of samples\n",
    "    samples = sample(params, num_particles, num_samples)\n",
    "    # then use MC integration\n",
    "    energies = []\n",
    "    for s in samples:\n",
    "        energies.append(energy(s, params,omega,g,num_particles))\n",
    "    return (1/num_samples)*jnp.sum(jnp.array(energies))\n",
    "    #return (1/num_samples) * jnp.sum(venergy(samples, params, omega, g, num_particles),0)\n",
    "\n",
    "def gradient(params, omega, g, num_particles, num_samples=10**3):\n",
    "    # get the samples\n",
    "    samples = sample(params, num_particles, num_samples)\n",
    "    psiHpsi = venergy(samples, params, omega, g, num_particles)\n",
    "    logs = vlog_term(samples, params)\n",
    "    \n",
    "    energy = 1/num_samples * jnp.sum(psiHpsi)\n",
    "    log_term = 1/num_samples * jnp.sum(logs,0)\n",
    "\n",
    "    both = 1/num_samples * jnp.sum(vboth(psiHpsi, logs),0)\n",
    "\n",
    "    gradient_calc = (2 * both - 2*energy * log_term)\n",
    "    return gradient_calc\n",
    "\n",
    "def vgrad_opt(start_params, omega, g, num_particles, num_samples=10**3, learning_rate=.1, max_iterations=100, tolerance=.01,):\n",
    "    params = start_params\n",
    "    hist = [start_params]\n",
    "\n",
    "    for it in range(max_iterations):\n",
    "        clear_output(wait=True)\n",
    "        diff = jnp.asarray((learning_rate * gradient(params, omega, g, num_particles, num_samples)))\n",
    "        print(diff)\n",
    "        if all((abs(val) < tolerance) for val in diff):\n",
    "            print(\"All under tolerance\")\n",
    "            return hist\n",
    "        # make a step in the direction opposite the gradient\n",
    "        params = params - diff\n",
    "        # print(params)\n",
    "        hist.append(params)\n",
    "    return hist"
   ]
  },
  {
   "cell_type": "code",
   "execution_count": 40,
   "metadata": {},
   "outputs": [],
   "source": [
    "# checking whether the neural network output matches what it should be\n",
    "# set the weights to something manually:\n",
    "\n",
    "# manual_weights = [.5,.5,.5,.5,.5,.5,.5,.5,.5]\n",
    "# nn.weights = nn.convnd(jnp.array(manual_weights))\n",
    "# print(nn.weights)\n",
    "# print(nn.output([1.0,1.0], jnp.array(manual_weights)))"
   ]
  },
  {
   "cell_type": "code",
   "execution_count": 4,
   "metadata": {},
   "outputs": [
    {
     "data": {
      "image/png": "[encoded data removed]",
      "text/plain": [
       "<Figure size 432x288 with 1 Axes>"
      ]
     },
     "metadata": {
      "needs_background": "light"
     },
     "output_type": "display_data"
    }
   ],
   "source": [
    "# plotting the wavefunction\n",
    "size = 200\n",
    "xmin = -200\n",
    "xmax = 200\n",
    "ymin = -200\n",
    "ymax = 200\n",
    "X = np.linspace(xmin, xmax, size)\n",
    "Y = np.linspace(ymin, ymax, size)\n",
    "mesh = [[psi([i, j], nn.conv1d()) for i in X] for j in Y]\n",
    "fig = plt.figure()\n",
    "plt.xlabel(r\"$x_1$\")\n",
    "plt.ylabel(r\"$x_2$\")\n",
    "im = plt.imshow(mesh, cmap=plt.get_cmap('jet'), extent=[xmin, xmax, ymin, ymax], origin='lower')\n",
    "plt.show()"
   ]
  },
  {
   "cell_type": "code",
   "execution_count": 42,
   "metadata": {},
   "outputs": [
    {
     "name": "stdout",
     "output_type": "stream",
     "text": [
      "18.606388\n",
      "14.71751\n",
      "6.737286\n",
      "16.016838\n",
      "16.633322\n"
     ]
    }
   ],
   "source": [
    "print(avg_energy(nn.conv1d(), omega,g,N,10**2))\n",
    "print(avg_energy(nn.conv1d(), omega,g,N,10**2))\n",
    "print(avg_energy(nn.conv1d(), omega,g,N,10**2))\n",
    "print(avg_energy(nn.conv1d(), omega,g,N,10**2))\n",
    "print(avg_energy(nn.conv1d(), omega,g,N,10**2))"
   ]
  },
  {
   "cell_type": "code",
   "execution_count": 43,
   "metadata": {},
   "outputs": [
    {
     "name": "stdout",
     "output_type": "stream",
     "text": [
      "[nan nan nan nan nan nan nan nan nan nan nan nan nan nan nan nan nan nan\n",
      " nan nan nan nan nan nan nan nan nan nan nan nan nan nan nan nan nan nan\n",
      " nan nan nan nan nan nan nan nan nan nan nan nan nan nan nan nan nan nan\n",
      " nan nan nan nan nan nan nan nan nan nan nan nan nan nan nan nan nan nan\n",
      " nan nan nan]\n",
      "[nan nan nan nan nan nan nan nan nan nan nan nan nan nan nan nan nan nan\n",
      " nan nan nan nan nan nan nan nan nan nan nan nan nan nan nan nan nan nan\n",
      " nan nan nan nan nan nan nan nan nan nan nan nan nan nan nan nan nan nan\n",
      " nan nan nan nan nan nan nan nan nan nan nan nan nan nan nan nan nan nan\n",
      " nan nan nan]\n"
     ]
    }
   ],
   "source": [
    "#print(gradient(nn.conv1d(),1,1,2))\n",
    "#print(psi([1.0,1.0], nn.conv1d()))\n",
    "optd = vgrad_opt(nn.conv1d(), omega,g,N)\n",
    "print(optd[-1])"
   ]
  },
  {
   "cell_type": "code",
   "execution_count": 44,
   "metadata": {},
   "outputs": [
    {
     "name": "stdout",
     "output_type": "stream",
     "text": [
      "nan\n",
      "0.75\n"
     ]
    }
   ],
   "source": [
    "print(avg_energy(optd[-1], omega,g,N,10**3))\n",
    "true_E = N*omega/2 -  g**2/24 * N * (N**2 - 1)\n",
    "print(true_E)"
   ]
  },
  {
   "cell_type": "code",
   "execution_count": 45,
   "metadata": {},
   "outputs": [
    {
     "data": {
      "image/png": "[encoded data removed]",
      "text/plain": [
       "<Figure size 640x480 with 1 Axes>"
      ]
     },
     "metadata": {},
     "output_type": "display_data"
    }
   ],
   "source": [
    "# plotting the wavefunction\n",
    "size = 200\n",
    "xmin = -100\n",
    "xmax = 100\n",
    "ymin = -100\n",
    "ymax = 100\n",
    "X = np.linspace(xmin, xmax, size)\n",
    "Y = np.linspace(ymin, ymax, size)\n",
    "mesh = [[psi([i, j], optd[-1]) for i in X] for j in Y]\n",
    "fig = plt.figure()\n",
    "plt.xlabel(r\"$x_1$\")\n",
    "plt.ylabel(r\"$x_2$\")\n",
    "im = plt.imshow(mesh, cmap=plt.get_cmap('jet'), extent=[xmin, xmax, ymin, ymax], origin='lower')\n",
    "plt.show()"
   ]
  }
 ],
 "metadata": {
  "kernelspec": {
   "display_name": "Python 3.10.4 64-bit",
   "language": "python",
   "name": "python3"
  },
  "language_info": {
   "codemirror_mode": {
    "name": "ipython",
    "version": 3
   },
   "file_extension": ".py",
   "mimetype": "text/x-python",
   "name": "python",
   "nbconvert_exporter": "python",
   "pygments_lexer": "ipython3",
   "version": "3.10.4"
  },
  "orig_nbformat": 4,
  "vscode": {
   "interpreter": {
    "hash": "916dbcbb3f70747c44a77c7bcd40155683ae19c65e1c03b4aa3499c5328201f1"
   }
  }
 },
 "nbformat": 4,
 "nbformat_minor": 2
}
