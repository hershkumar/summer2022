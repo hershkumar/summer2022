{
 "cells": [
  {
   "cell_type": "markdown",
   "metadata": {},
   "source": [
    "### First attempt at VMC\n",
    "Using Variational Monte Carlo to find the ground state of a particle with potential $V(x) =\\frac{1}{2} m\\omega^2x^2 + \\lambda x^4$.\n",
    "\n",
    "We want to minimize the expected ground state energy:\n",
    "$$\\varepsilon = \\frac{\\int dX \\, \\psi^\\dagger(X)\\hat{H}\\psi(X)}{\\int dX\\, \\psi^\\dagger(X) \\psi(X)} = \\frac{\\int dX \\, \\psi^2(X)\\psi^{-1}(X)\\hat{H}\\psi(X)}{\\int dX\\, \\psi^2(X)}$$\n"
   ]
  },
  {
   "cell_type": "code",
   "execution_count": 168,
   "metadata": {},
   "outputs": [],
   "source": [
    "import numpy as np\n",
    "from matplotlib import pyplot as plt\n",
    "import random\n",
    "from scipy import integrate, optimize\n",
    "\n",
    "# constants for the potential\n",
    "m = 1\n",
    "omega = 1\n",
    "lam = 0\n",
    "hbar = 1\n",
    "N = 10**4\n",
    "# potential function\n",
    "def V(x):\n",
    "    return 1/2*m * omega**2 * x**2 + lam * x**4\n",
    "\n",
    "def psi(x, a):\n",
    "    return np.exp(-x**2 * a)\n",
    "def ddpsi(x,a):\n",
    "    return 2*a*np.exp(-a*x**2)*(2*a*x**2 - 1)\n",
    "def Hpsi(x,a):\n",
    "    return V(x) * psi(x,a)  -hbar**2 / (2*m) * ddpsi(x,a)\n",
    "def dlog_psi(x,a):\n",
    "    return -x**2\n",
    "\n",
    "def P(x, a):\n",
    "    return psi(x, a)**2/integrate.quad(psi, -np.inf, np.inf,args=(a,))[0]\n",
    "\n",
    "# function that samples the probability distribution P, n times\n",
    "# uses the metropolis algorithm\n",
    "# for any more than n=1, returns an array\n",
    "def sample(a, n = 1):\n",
    "    outputs = []\n",
    "\n",
    "    # pick the start point\n",
    "    x_t = 0\n",
    "    for t in range(n):\n",
    "        x_prime = x_t + random.uniform(-1,1)\n",
    "        \n",
    "        if (random.uniform(0,1) < P(x_prime, a)/P(x_t, a)):\n",
    "            x_t = x_prime\n",
    "        outputs.append(x_t)\n",
    "    if n == 1:\n",
    "        return outputs[0]\n",
    "    return outputs\n",
    "\n",
    "\n",
    "# now we define the approximation of the average, which uses the metropolis sampling\n",
    "def avg_energy(N, a):\n",
    "    # get N sampled points\n",
    "    samples = sample(a, N)\n",
    "    # apply the function to every point\n",
    "    applied = [(1/psi(x_a, a) * Hpsi(x_a,a)) for x_a in samples]\n",
    "    return 1/N * sum(applied)\n",
    "\n",
    "# just a wrapper function for the average energy function\n",
    "\n",
    "def avg_wrapper(a):\n",
    "    return avg_energy(N, a)\n",
    "\n",
    "# define the average of the derivative with respect to the parameter\n",
    "# of the log of psi\n",
    "def avg_dlogpsi(N,a):\n",
    "    samples = sample(a,N)\n",
    "    applied = [dlog_psi(x_a, a) for x_a in samples]\n",
    "    return 1/N * sum(applied)\n",
    "\n",
    "def avg_both(N,a):\n",
    "    samples = sample(a,N)\n",
    "    applied = [(1/psi(x_a,a) * dlog_psi(x_a, a) * Hpsi(x_a,a)) for x_a in samples]\n",
    "    return 1/N * sum(applied)\n",
    "\n",
    "def gradient(N, a):\n",
    "    return 2 * avg_both(N,a) - 2 * avg_dlogpsi(N, a) * avg_energy(N, a)"
   ]
  },
  {
   "cell_type": "code",
   "execution_count": 169,
   "metadata": {},
   "outputs": [
    {
     "name": "stderr",
     "output_type": "stream",
     "text": [
      "C:\\Users\\Hersh\\AppData\\Local\\Temp/ipykernel_12916/4265077594.py:26: IntegrationWarning: The integral is probably divergent, or slowly convergent.\n",
      "  return psi(x, a)**2/integrate.quad(psi, -np.inf, np.inf,args=(a,))[0]\n"
     ]
    }
   ],
   "source": [
    "a_vals = np.linspace(.1, 2, 30)\n",
    "energies = [avg_energy(N, a) for a in a_vals]\n",
    "a_min = optimize.minimize_scalar(avg_wrapper).x"
   ]
  },
  {
   "cell_type": "code",
   "execution_count": 170,
   "metadata": {},
   "outputs": [
    {
     "data": {
      "image/png": "[encoded data removed]",
      "text/plain": [
       "<Figure size 432x288 with 1 Axes>"
      ]
     },
     "metadata": {
      "needs_background": "light"
     },
     "output_type": "display_data"
    },
    {
     "name": "stdout",
     "output_type": "stream",
     "text": [
      "a value with minimum average energy: 0.46163157825596124\n",
      "Minimum Energy: 0.5007753835688539\n",
      "True Ground State Energy: 0.5\n"
     ]
    }
   ],
   "source": [
    "plt.scatter(a_vals, energies)\n",
    "plt.title(\"$a$ vs Average Energy ($\\psi(x) = e^{-ax^2}$)\")\n",
    "plt.xlabel(\"$a$\")\n",
    "plt.ylabel(\"Average Energy\")\n",
    "plt.grid()\n",
    "plt.show()\n",
    "print(\"a value with minimum average energy: \"+ str(a_min))\n",
    "print(\"Minimum Energy: \" + str(avg_wrapper(a_min)))\n",
    "print(\"True Ground State Energy: \" + str(1/2 * hbar * omega))"
   ]
  }
 ],
 "metadata": {
  "interpreter": {
   "hash": "617eb40fd466985893210fcf6dfa86b4a48494030010f760d59cb6ed33b6da17"
  },
  "kernelspec": {
   "display_name": "Python 3.10.2 64-bit",
   "language": "python",
   "name": "python3"
  },
  "language_info": {
   "codemirror_mode": {
    "name": "ipython",
    "version": 3
   },
   "file_extension": ".py",
   "mimetype": "text/x-python",
   "name": "python",
   "nbconvert_exporter": "python",
   "pygments_lexer": "ipython3",
   "version": "3.10.2"
  },
  "orig_nbformat": 4
 },
 "nbformat": 4,
 "nbformat_minor": 2
}
