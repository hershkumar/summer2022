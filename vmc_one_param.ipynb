{
 "cells": [
  {
   "cell_type": "markdown",
   "metadata": {},
   "source": [
    "### First attempt at VMC\n",
    "Using Variational Monte Carlo to find the ground state of a particle with potential $V(x) =\\frac{1}{2} m\\omega^2x^2 + \\lambda x^4$.\n",
    "\n",
    "We want to minimize the expected ground state energy:\n",
    "$$\\varepsilon = \\frac{\\int dX \\, \\psi^\\dagger(X)\\hat{H}\\psi(X)}{\\int dX\\, \\psi^\\dagger(X) \\psi(X)} = \\frac{\\int dX \\, \\psi^2(X)\\psi^{-1}(X)\\hat{H}\\psi(X)}{\\int dX\\, \\psi^2(X)}$$\n"
   ]
  },
  {
   "cell_type": "code",
   "execution_count": 4,
   "metadata": {},
   "outputs": [],
   "source": [
    "import numpy as np\n",
    "from matplotlib import pyplot as plt\n",
    "import random\n",
    "import sympy as sym\n",
    "\n",
    "# constants for the potential\n",
    "m = 1\n",
    "omega = 1\n",
    "lam = .2\n",
    "hbar = 1\n",
    "N = 10**4\n",
    "\n",
    "\n",
    "x = sym.Symbol('x')\n",
    "a = sym.Symbol('a')\n",
    "\n",
    "sym_psi = sym.exp(-a*x**2)\n",
    "sym_ddpsi = sym.diff(sym.diff(sym_psi, x), x)\n",
    "partial_a = sym.diff(sym.log(sym_psi),a)\n",
    "grad_log_psi = sym.lambdify([x,a], partial_a)\n",
    "\n",
    "# potential function\n",
    "def V(x_inp):\n",
    "    return 1/2*m * omega**2 * x_inp**2 + lam * x_inp**4\n",
    "\n",
    "psi = sym.lambdify([x, a], sym_psi, dummify=True)\n",
    "ddpsi = sym.lambdify([x, a], sym_ddpsi, dummify=True)\n",
    "\n",
    "def Hpsi(x_inp,a):\n",
    "    return V(x_inp) * psi(x_inp, a)  -hbar**2 / (2*m) * ddpsi(x_inp, a)\n",
    "\n",
    "# function that samples the probability distribution P, n times\n",
    "# uses the metropolis algorithm\n",
    "# for any more than n=1, returns an array\n",
    "def sample(a, n = 1):\n",
    "    outputs = []\n",
    "    # pick the start point\n",
    "    x_t = 0\n",
    "    for t in range(n):\n",
    "        x_prime = x_t + random.uniform(-1,1)\n",
    "        \n",
    "        if (random.uniform(0,1) < psi(x_prime, a)**2/psi(x_t, a)**2):\n",
    "            x_t = x_prime\n",
    "        outputs.append(x_t)\n",
    "    if n == 1:\n",
    "        return outputs[0]\n",
    "    return outputs\n",
    "\n",
    "\n",
    "# now we define the approximation of the average, which uses the metropolis sampling\n",
    "def avg_energy(N, a):\n",
    "    # get N sampled points\n",
    "    samples = sample(a, N)\n",
    "    # apply the function to every point\n",
    "    applied = [(1/psi(x_a, a) * Hpsi(x_a,a)) for x_a in samples]\n",
    "    return 1/N * sum(applied)\n",
    "\n",
    "# definition of the gradient\n",
    "def gradient(a_inp, N):\n",
    "    samples = sample(a_inp, N)\n",
    "    energy_exp = 1/N * sum([(1/psi(x_a, a_inp) * Hpsi(x_a, a_inp)) for x_a in samples])\n",
    "    gradlogpsi_exp = 1/N * sum([grad_log_psi(x_a, a_inp) for x_a in samples], 0)\n",
    "    both_exp = 1/N * sum([(1/psi(x_a, a_inp) * grad_log_psi(x_a, a_inp) * Hpsi(x_a, a_inp)) for x_a in samples], 0)\n",
    "    return (2 * both_exp - 2 * energy_exp * gradlogpsi_exp)\n",
    "\n",
    "# define the gradient descent algorithm\n",
    "def grad_opt(a_0, lr, max_iterations=10000, tolerance=.001, N=10**4):\n",
    "    a = a_0\n",
    "    hist = []\n",
    "    for _ in range(max_iterations):\n",
    "        # gradient in this case is just a number\n",
    "        diff = lr * gradient(a, N)\n",
    "        #print(diff)\n",
    "        if abs(diff) < tolerance:\n",
    "            return a\n",
    "        a = a - diff\n",
    "        hist.append(a)\n",
    "    return a\n",
    "\n"
   ]
  },
  {
   "cell_type": "code",
   "execution_count": 5,
   "metadata": {},
   "outputs": [],
   "source": [
    "a_vals = np.linspace(.1, 2, 30)\n",
    "energies = [avg_energy(N, a) for a in a_vals]\n",
    "# run the gradient descent algorithm\n",
    "a_min = grad_opt(.5, .1)"
   ]
  },
  {
   "cell_type": "code",
   "execution_count": 6,
   "metadata": {},
   "outputs": [
    {
     "data": {
      "image/png": "[encoded data removed]",
      "text/plain": [
       "<Figure size 432x288 with 1 Axes>"
      ]
     },
     "metadata": {
      "needs_background": "light"
     },
     "output_type": "display_data"
    },
    {
     "name": "stdout",
     "output_type": "stream",
     "text": [
      "a value with minimum average energy: 0.6847200457564594\n",
      "min energy: 0.6052293192067907\n"
     ]
    }
   ],
   "source": [
    "plt.scatter(a_vals, energies)\n",
    "plt.title(\"$a$ vs Average Energy ($\\psi(x) = e^{-ax^2}$)\")\n",
    "plt.xlabel(\"$a$\")\n",
    "plt.ylabel(\"Average Energy\")\n",
    "plt.grid()\n",
    "plt.show()\n",
    "print(\"a value with minimum average energy: \"+ str(a_min))\n",
    "print(\"min energy: \" + str(avg_energy(10**4, a_min)))"
   ]
  }
 ],
 "metadata": {
  "interpreter": {
   "hash": "617eb40fd466985893210fcf6dfa86b4a48494030010f760d59cb6ed33b6da17"
  },
  "kernelspec": {
   "display_name": "Python 3.10.2 64-bit",
   "language": "python",
   "name": "python3"
  },
  "language_info": {
   "codemirror_mode": {
    "name": "ipython",
    "version": 3
   },
   "file_extension": ".py",
   "mimetype": "text/x-python",
   "name": "python",
   "nbconvert_exporter": "python",
   "pygments_lexer": "ipython3",
   "version": "3.10.2"
  },
  "orig_nbformat": 4
 },
 "nbformat": 4,
 "nbformat_minor": 2
}
