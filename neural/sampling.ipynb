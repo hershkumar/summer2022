{
 "cells": [
  {
   "cell_type": "code",
   "execution_count": 9,
   "metadata": {},
   "outputs": [
    {
     "name": "stdout",
     "output_type": "stream",
     "text": [
      "The snakeviz extension is already loaded. To reload it, use:\n",
      "  %reload_ext snakeviz\n"
     ]
    }
   ],
   "source": [
    "import numpy as np\n",
    "import jax\n",
    "import jax.numpy as jnp\n",
    "import matplotlib.pyplot as plt\n",
    "from jax import grad, jit, vmap\n",
    "from jax import random\n",
    "\n",
    "\n",
    "%load_ext snakeviz\n",
    "\n",
    "@jit\n",
    "def psi(coords):\n",
    "    return jnp.exp(-jnp.sum(coords**2)/2)\n",
    "\n",
    "def sample_test(num_samples=10**3, thermalization_steps=200, skip_count=50, variation_size=1.0):\n",
    "    outputs = []\n",
    "    num_accepted = 0\n",
    "    num_total = num_samples*skip_count + thermalization_steps + 1\n",
    "    rand_coords = np.random.uniform(-variation_size, variation_size, size=(num_total, 2))\n",
    "    rand_accepts = np.random.uniform(0, 1, size=num_total)\n",
    "\n",
    "    coords_t = jnp.zeros(2)\n",
    "    for step in range(num_total):\n",
    "        coords_t, accepted = sample_body_test(coords_t, step, rand_coords, rand_accepts)\n",
    "        if accepted:\n",
    "            num_accepted += 1\n",
    "        if ((step > thermalization_steps) and (step % skip_count == 0)):\n",
    "            outputs.append(coords_t)\n",
    "    # create a second output array, where the second coordinate is equal to the first coordinate\n",
    "    outputs_prime = outputs\n",
    "    for i in range(len(outputs)):\n",
    "        a = outputs[i]\n",
    "        a.at[1].set(a[0])\n",
    "        outputs_prime[i] = a\n",
    "    return jnp.array(outputs), jnp.array(outputs_prime), num_accepted/num_total\n",
    "\n",
    "@jit\n",
    "def sample_body_test(coords_t, step_index, rand_coords, rand_accepts):    \n",
    "    coords_prime = coords_t + rand_coords[step_index]\n",
    "    return jax.lax.cond(rand_accepts[step_index] < psi(coords_prime)/psi(coords_t), lambda x,_: (x,True) , lambda _,y: (y,False), coords_prime, coords_t) "
   ]
  },
  {
   "cell_type": "code",
   "execution_count": 16,
   "metadata": {},
   "outputs": [
    {
     "name": "stdout",
     "output_type": "stream",
     "text": [
      "0.5038174653789177\n"
     ]
    }
   ],
   "source": [
    "# %%snakeviz -t\n",
    "\n",
    "variation = 1.8\n",
    "samples, _, ratio = sample_test(num_samples=10**4, thermalization_steps=200, skip_count=50, variation_size=variation)\n",
    "print(ratio)\n"
   ]
  },
  {
   "cell_type": "code",
   "execution_count": 17,
   "metadata": {},
   "outputs": [
    {
     "data": {
      "image/png": "[encoded data removed]",
      "text/plain": [
       "<Figure size 640x480 with 1 Axes>"
      ]
     },
     "metadata": {},
     "output_type": "display_data"
    }
   ],
   "source": [
    "xs = samples[:,0]\n",
    "def true(x):\n",
    "    return np.sqrt(1/(2 * np.pi)) * np.exp(-x**2/2)\n",
    "    # return 0.463835 * np.exp(-x**4/2)\n",
    "x = np.linspace(-3, 3, 100)\n",
    "plt.scatter(x, true(x), color='red')\n",
    "plt.hist(xs, bins=50, density=True)\n",
    "plt.show()"
   ]
  },
  {
   "cell_type": "code",
   "execution_count": 18,
   "metadata": {},
   "outputs": [
    {
     "name": "stdout",
     "output_type": "stream",
     "text": [
      "1.9742994\n",
      "0.02023334741592407\n"
     ]
    }
   ],
   "source": [
    "temp = [coord[0]**2 + coord[1]**2 for coord in samples]\n",
    "print(np.mean(temp))\n",
    "print(np.std(temp)/np.sqrt(len(temp)))"
   ]
  }
 ],
 "metadata": {
  "kernelspec": {
   "display_name": "base",
   "language": "python",
   "name": "python3"
  },
  "language_info": {
   "codemirror_mode": {
    "name": "ipython",
    "version": 3
   },
   "file_extension": ".py",
   "mimetype": "text/x-python",
   "name": "python",
   "nbconvert_exporter": "python",
   "pygments_lexer": "ipython3",
   "version": "3.10.13"
  },
  "orig_nbformat": 4
 },
 "nbformat": 4,
 "nbformat_minor": 2
}
