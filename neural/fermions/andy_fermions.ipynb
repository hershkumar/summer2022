{
 "cells": [
  {
   "cell_type": "code",
   "execution_count": 96,
   "metadata": {},
   "outputs": [],
   "source": [
    "import numpy as np\n",
    "import jax\n",
    "import flax\n",
    "import flax.linen as nn\n",
    "import jax.numpy as jnp\n",
    "from tqdm import tqdm\n",
    "from jax import jit\n",
    "import math\n",
    "from scipy.optimize import fsolve\n",
    "\n",
    "\n",
    "import jax.example_libraries.optimizers as jax_opt\n",
    "\n",
    "import matplotlib.pyplot as plt\n"
   ]
  },
  {
   "cell_type": "code",
   "execution_count": 97,
   "metadata": {},
   "outputs": [],
   "source": [
    "def init_params_SAMPLE(layer_widths):\n",
    "    weights = []\n",
    "    biases = []\n",
    "    for n_in, n_out in zip(layer_widths[:-1], layer_widths[1:]):\n",
    "        weights.append(jnp.array(np.random.normal(size=(n_in, n_out)) * np.sqrt(2/n_in)))\n",
    "        biases.append(jnp.array(np.random.normal(size=(n_out,))))\n",
    "        \n",
    "    return [weights, biases]"
   ]
  },
  {
   "cell_type": "code",
   "execution_count": 98,
   "metadata": {},
   "outputs": [],
   "source": [
    "#initializes a set of NN parameters\n",
    "def init_params(layer_widths):\n",
    "    weights = []\n",
    "    biases = []\n",
    "    for n_in, n_out in zip(layer_widths[:-1], layer_widths[1:]):\n",
    "        weights.append(jnp.array(np.random.normal(size=(n_in, n_out)) * np.sqrt(2/n_in)))\n",
    "        biases.append(jnp.array(np.random.normal(size=(n_out,))))\n",
    "        \n",
    "    return flatten_params([weights, biases])"
   ]
  },
  {
   "cell_type": "code",
   "execution_count": 99,
   "metadata": {},
   "outputs": [],
   "source": [
    "def get_phi_params(layer_widths):\n",
    "    tot_params = []\n",
    "    for i in range(N_UP + N_DOWN):\n",
    "        tot_params.append(init_params(layer_widths))\n",
    "    \n",
    "    return tot_params"
   ]
  },
  {
   "cell_type": "code",
   "execution_count": 100,
   "metadata": {},
   "outputs": [],
   "source": [
    "@jit\n",
    "def flatten_params(ps):\n",
    "    weights, biases = ps\n",
    "    params = jnp.array([])\n",
    "    for i in range(len(weights)):\n",
    "        params = jnp.concatenate((params, weights[i].flatten()))\n",
    "        params = jnp.concatenate((params, biases[i].flatten()))\n",
    "    return jnp.array(params)"
   ]
  },
  {
   "cell_type": "code",
   "execution_count": 101,
   "metadata": {},
   "outputs": [],
   "source": [
    "@jit\n",
    "def unflatten_params(params):\n",
    "    weights = []\n",
    "    biases = []\n",
    "    start = 0\n",
    "    for i in range(len(SAMPLE_W)):\n",
    "        end = start + SAMPLE_W[i].size \n",
    "        weights.append(jnp.reshape(jnp.array(params[start:end]), SAMPLE_W[i].shape))\n",
    "        start = end\n",
    "        end = start + SAMPLE_B[i].size\n",
    "        biases.append(jnp.reshape(jnp.array(params[start:end]), SAMPLE_B[i].shape))\n",
    "        start = end\n",
    "    return [weights, biases]"
   ]
  },
  {
   "cell_type": "code",
   "execution_count": 102,
   "metadata": {},
   "outputs": [],
   "source": [
    "@jit\n",
    "def NN(coords, params):\n",
    "    weights, biases = unflatten_params(params) \n",
    "    a = jnp.array(coords)\n",
    "    for i in range(len(weights) - 1):\n",
    "        z = jnp.dot(a, weights[i]) + biases[i]\n",
    "        a = jax.nn.celu(z)\n",
    "    a = jnp.dot(a, weights[-1]) + biases[-1]\n",
    "    return a[0]"
   ]
  },
  {
   "cell_type": "code",
   "execution_count": 103,
   "metadata": {},
   "outputs": [],
   "source": [
    "def inputs_up(coords, j):\n",
    "    \n",
    "    reordered = [coords[j]] + coords[:j] + coords[j+1:] \n",
    "    \n",
    "    \n",
    "    sym_piece1 = reordered[1:N_UP]\n",
    "    sym_piece2 = reordered[N_UP:]\n",
    "    \n",
    "    num = 2.0\n",
    "    \n",
    "    new1 = []\n",
    "    new2 = []\n",
    "    for i in range(1, N_UP):\n",
    "        new1.append(sum((np.array(sym_piece1)/num)**i))\n",
    "    for i in range(1, N_DOWN+1):\n",
    "        new2.append(sum((np.array(sym_piece2)/num)**i))\n",
    "    \n",
    "    return [reordered[0]] + new1 + new2"
   ]
  },
  {
   "cell_type": "code",
   "execution_count": 104,
   "metadata": {},
   "outputs": [],
   "source": [
    "def inputs_down(coords, j):\n",
    "    reordered = [coords[j+N_UP]] + coords[:j+N_UP] + coords[j+N_UP+1:] \n",
    "    \n",
    "    sym_piece1 = reordered[1:N_UP+1]\n",
    "    sym_piece2 = reordered[N_UP+1:]\n",
    "    \n",
    "    num = 2.0\n",
    "    \n",
    "    new1 = []\n",
    "    new2 = []\n",
    "    for i in range(1, N_UP+1):\n",
    "        new1.append(sum((np.array(sym_piece1)/num)**i))\n",
    "    for i in range(1, N_DOWN):\n",
    "        new2.append(sum((np.array(sym_piece2)/num)**i))\n",
    "        \n",
    "    return [reordered[0]] + new1 + new2\n",
    "    "
   ]
  },
  {
   "cell_type": "code",
   "execution_count": 105,
   "metadata": {},
   "outputs": [],
   "source": [
    "def PHI_up(coords, params):\n",
    "    mat = np.zeros((N_UP, N_UP))\n",
    "    for i in range(N_UP):\n",
    "        for j in range(N_UP):\n",
    "            mat[i][j] = NN(inputs_up(coords, j), params[i])\n",
    "    \n",
    "    return np.linalg.det(mat)"
   ]
  },
  {
   "cell_type": "code",
   "execution_count": 106,
   "metadata": {},
   "outputs": [],
   "source": [
    "def PHI_down(coords, params):\n",
    "    mat = np.zeros((N_DOWN, N_DOWN))\n",
    "    for i in range(N_DOWN):\n",
    "        for j in range(N_DOWN):\n",
    "            mat[i][j] = NN(inputs_down(coords, j), params[i])\n",
    "    \n",
    "    return np.linalg.det(mat)"
   ]
  },
  {
   "cell_type": "code",
   "execution_count": 107,
   "metadata": {},
   "outputs": [],
   "source": [
    "def Psi(coords, params):\n",
    "    return PHI_up(coords, params)*PHI_down(coords, params)"
   ]
  },
  {
   "cell_type": "code",
   "execution_count": null,
   "metadata": {},
   "outputs": [],
   "source": []
  },
  {
   "cell_type": "code",
   "execution_count": 108,
   "metadata": {},
   "outputs": [],
   "source": [
    "N_UP = 2\n",
    "N_DOWN = 1"
   ]
  },
  {
   "cell_type": "code",
   "execution_count": 109,
   "metadata": {},
   "outputs": [],
   "source": [
    "lss = [N_UP+N_DOWN, 5, 2, 1]"
   ]
  },
  {
   "cell_type": "code",
   "execution_count": 110,
   "metadata": {},
   "outputs": [],
   "source": [
    "SAMPLE_W, SAMPLE_B = init_params_SAMPLE(lss)"
   ]
  },
  {
   "cell_type": "code",
   "execution_count": 111,
   "metadata": {},
   "outputs": [],
   "source": [
    "phis = get_phi_params(lss)"
   ]
  },
  {
   "cell_type": "code",
   "execution_count": 119,
   "metadata": {},
   "outputs": [
    {
     "name": "stdout",
     "output_type": "stream",
     "text": [
      "[Array([-1.0841054 ,  0.250168  ,  0.95714045,  0.43275496, -1.4159592 ,\n",
      "        0.72935706,  0.13850223,  0.9647855 ,  0.01983636, -1.4240693 ,\n",
      "       -0.28382698, -0.02209239, -0.3736783 ,  0.78938675, -1.0608984 ,\n",
      "        2.102186  ,  0.48607296,  1.7776774 ,  0.4649085 ,  0.72186756,\n",
      "        1.2012659 , -0.24226609,  0.11984123, -0.7048975 ,  0.4780057 ,\n",
      "       -0.6237609 ,  0.37379402,  1.7054244 , -0.07227264,  0.25605917,\n",
      "       -0.15040253, -1.0511962 ,  2.1371129 ,  0.6787612 , -0.21914542],      dtype=float32), Array([-0.24875341, -0.41059425,  0.0235319 ,  0.25725865, -0.3345478 ,\n",
      "        0.73682964, -0.8733575 ,  0.15866962,  0.3437804 , -0.4928135 ,\n",
      "        0.02310087,  1.0655915 , -1.4893063 , -1.3438495 , -0.4990888 ,\n",
      "       -1.6293653 ,  0.01850508,  0.51292956,  0.28775594,  2.1952846 ,\n",
      "       -0.303544  ,  0.6366342 , -0.7383139 ,  0.9870084 ,  0.50908405,\n",
      "        1.6146858 ,  0.07765636, -0.02969163, -0.8505752 ,  0.1657593 ,\n",
      "       -0.01972426,  0.84009546, -1.728767  , -0.51897806, -0.05251478],      dtype=float32), Array([ 0.42199156,  1.7434385 ,  0.22630791,  0.34623274, -0.35876256,\n",
      "        0.14467907,  0.81486535,  1.2016524 ,  0.19546828, -0.48061782,\n",
      "       -0.8637873 ,  0.48503816, -0.88643616, -0.17017142, -0.07928645,\n",
      "        1.2715485 , -0.3279925 , -1.241118  , -0.0984902 , -1.0633807 ,\n",
      "        1.9321262 , -1.3392707 ,  1.1345214 , -0.41875318, -1.750515  ,\n",
      "       -0.01140831, -0.93218666, -0.2971932 ,  1.3275923 , -0.21789251,\n",
      "        0.42098555,  1.9784107 ,  1.1466811 ,  0.16466197, -2.176942  ],      dtype=float32)]\n"
     ]
    }
   ],
   "source": [
    "print(phis)"
   ]
  },
  {
   "cell_type": "code",
   "execution_count": null,
   "metadata": {},
   "outputs": [],
   "source": []
  },
  {
   "cell_type": "code",
   "execution_count": 112,
   "metadata": {},
   "outputs": [],
   "source": [
    "x1u = 0.1\n",
    "x2u = 0.2\n",
    "x1d = 0.3"
   ]
  },
  {
   "cell_type": "code",
   "execution_count": 113,
   "metadata": {},
   "outputs": [
    {
     "data": {
      "text/plain": [
       "1.307428885699463"
      ]
     },
     "execution_count": 113,
     "metadata": {},
     "output_type": "execute_result"
    }
   ],
   "source": [
    "Psi([x1u, x2u, x1d], phis)"
   ]
  },
  {
   "cell_type": "code",
   "execution_count": 114,
   "metadata": {},
   "outputs": [
    {
     "data": {
      "text/plain": [
       "2.426176759000212"
      ]
     },
     "execution_count": 114,
     "metadata": {},
     "output_type": "execute_result"
    }
   ],
   "source": [
    "Psi([x1u, x1d, x2u], phis) #no symmetry expected"
   ]
  },
  {
   "cell_type": "code",
   "execution_count": 115,
   "metadata": {},
   "outputs": [
    {
     "data": {
      "text/plain": [
       "-1.30742888569947"
      ]
     },
     "execution_count": 115,
     "metadata": {},
     "output_type": "execute_result"
    }
   ],
   "source": [
    "Psi([x2u, x1u, x1d], phis) #antisymmetry"
   ]
  },
  {
   "cell_type": "code",
   "execution_count": 116,
   "metadata": {},
   "outputs": [
    {
     "data": {
      "text/plain": [
       "1.090128361079354"
      ]
     },
     "execution_count": 116,
     "metadata": {},
     "output_type": "execute_result"
    }
   ],
   "source": [
    "Psi([x2u, x1d, x1u], phis) #no symmetry expected"
   ]
  },
  {
   "cell_type": "code",
   "execution_count": 117,
   "metadata": {},
   "outputs": [
    {
     "data": {
      "text/plain": [
       "-2.63548694422091"
      ]
     },
     "execution_count": 117,
     "metadata": {},
     "output_type": "execute_result"
    }
   ],
   "source": [
    "Psi([x1d, x1u, x1d], phis) #no symmetry expected"
   ]
  },
  {
   "cell_type": "code",
   "execution_count": 121,
   "metadata": {},
   "outputs": [
    {
     "data": {
      "text/plain": [
       "-1.0901283610793557"
      ]
     },
     "execution_count": 121,
     "metadata": {},
     "output_type": "execute_result"
    }
   ],
   "source": [
    "Psi([x1d, x2u, x1u], phis) #no symmetry expected but this is -Psi([x2u, x1d, x1u], phis). Is this ok?"
   ]
  },
  {
   "cell_type": "code",
   "execution_count": 122,
   "metadata": {},
   "outputs": [
    {
     "data": {
      "text/plain": [
       "-2.426176759000219"
      ]
     },
     "execution_count": 122,
     "metadata": {},
     "output_type": "execute_result"
    }
   ],
   "source": [
    "Psi([x1d, x1u, x2u], phis) "
   ]
  },
  {
   "cell_type": "code",
   "execution_count": null,
   "metadata": {},
   "outputs": [],
   "source": []
  },
  {
   "cell_type": "code",
   "execution_count": null,
   "metadata": {},
   "outputs": [],
   "source": []
  },
  {
   "cell_type": "code",
   "execution_count": null,
   "metadata": {},
   "outputs": [],
   "source": []
  },
  {
   "cell_type": "code",
   "execution_count": null,
   "metadata": {},
   "outputs": [],
   "source": []
  },
  {
   "cell_type": "code",
   "execution_count": null,
   "metadata": {},
   "outputs": [],
   "source": []
  },
  {
   "cell_type": "code",
   "execution_count": null,
   "metadata": {},
   "outputs": [],
   "source": []
  },
  {
   "cell_type": "code",
   "execution_count": null,
   "metadata": {},
   "outputs": [],
   "source": []
  }
 ],
 "metadata": {
  "kernelspec": {
   "display_name": "Python 3",
   "language": "python",
   "name": "python3"
  },
  "language_info": {
   "codemirror_mode": {
    "name": "ipython",
    "version": 3
   },
   "file_extension": ".py",
   "mimetype": "text/x-python",
   "name": "python",
   "nbconvert_exporter": "python",
   "pygments_lexer": "ipython3",
   "version": "3.10.13"
  }
 },
 "nbformat": 4,
 "nbformat_minor": 4
}
