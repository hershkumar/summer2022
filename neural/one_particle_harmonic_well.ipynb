{
 "cells": [
  {
   "cell_type": "code",
   "execution_count": 1,
   "metadata": {},
   "outputs": [],
   "source": [
    "import numpy as np\n",
    "import jax.numpy as jnp\n",
    "from matplotlib import pyplot as plt\n",
    "import matplotlib.animation as animation\n",
    "from pylab import figure, cm\n",
    "import jax\n",
    "from jax import grad, hessian, jit, vmap, lax\n",
    "from jax.nn import celu\n",
    "import time\n",
    "from functools import partial\n",
    "from IPython.display import clear_output\n",
    "\n",
    "hbar = 1\n",
    "m = 1\n",
    "omega = 1\n"
   ]
  },
  {
   "cell_type": "code",
   "execution_count": 35,
   "metadata": {},
   "outputs": [],
   "source": [
    "class Network:\n",
    "    #[1, 5, 10, 10, 10, 10, 5, 1]\n",
    "    def __init__(self, node_counts=[1, 100,100,100,100,100, 1]):\n",
    "        # defining the structure of the neural network\n",
    "        self.num_layers = len(node_counts)\n",
    "        # the number of nodes for each layer\n",
    "        self.node_counts = node_counts\n",
    "        # the total number of weights\n",
    "        self.params_length = 0\n",
    "        for i in range(self.num_layers - 1):\n",
    "            self.params_length += node_counts[i] * node_counts[i + 1]\n",
    "            i+=1\n",
    "        # the list that stores the weight matrices (index 0 is the connections from the input to the first hidden layer)\n",
    "        self.weights = []\n",
    "        # storage for all the biases\n",
    "        self.biases = []\n",
    "        \n",
    "        # generate weight matrices with the correct sizes, and random elements\n",
    "        for i in range(self.num_layers - 1):\n",
    "            self.weights.append(np.random.randn(node_counts[i + 1], node_counts[i]) * np.sqrt(1. / (node_counts[i + 1])))\n",
    "        self.weights = np.array(self.weights, dtype=object)\n",
    "        \n",
    "        # generate the bias arrays\n",
    "        for i in range(self.num_layers - 1):\n",
    "            temp = np.random.randn(node_counts[i + 1]) * np.sqrt(1. / node_counts[i + 1])\n",
    "            self.biases.append(temp[:, None])\n",
    "        self.biases = np.array(self.biases, dtype=object)\n",
    "        # get the shape for reshaping a 1d array to this later\n",
    "        self.dimensions = []\n",
    "        for m in self.weights:\n",
    "            self.dimensions.append(m.shape)\n",
    "\n",
    "    # define the activation function that we use for the layers\n",
    "    @partial(jit, static_argnums=[0])\n",
    "    def l_act(self, x):\n",
    "        return celu(x)\n",
    "        #return 1.0 / (1.0 + jnp.exp(-x))    \n",
    "    # define the activation function for the output\n",
    "    @partial(jit, static_argnums=[0])\n",
    "    def o_act(self, x):\n",
    "        return celu(x)\n",
    "        #return x\n",
    "        #return 1.0 / (1.0 + jnp.exp(-x))\n",
    "    \n",
    "    @partial(jit, static_argnums=(0,))\n",
    "    def conv1d(self):\n",
    "        flattened = []\n",
    "        # loop through each matrix\n",
    "        for m in range(self.num_layers - 1):\n",
    "            mat = self.weights[m]\n",
    "            for i in range(mat.shape[0]):\n",
    "                for j in range(mat.shape[1]):\n",
    "                    flattened.append(mat[i][j])\n",
    "        for m in range(self.num_layers - 1):\n",
    "            # add the biases onto the end\n",
    "            bias = self.biases[m]\n",
    "            for element in bias:\n",
    "                flattened.append(element)\n",
    "        return jnp.array(flattened)\n",
    "        \n",
    "    @partial(jit, static_argnums=(0,))\n",
    "    def convnd(self, params):\n",
    "        ret = []\n",
    "        ret_bias = []\n",
    "        # the last index of the matrix\n",
    "        max_ind = 0\n",
    "        prev_ind = 0\n",
    "        for dim in self.dimensions:\n",
    "            max_ind += dim[0]*dim[1]\n",
    "            temp = params[prev_ind : max_ind]\n",
    "            prev_ind = max_ind\n",
    "            ret.append(jnp.array(temp).reshape(dim))\n",
    "        biases_flattened = params[max_ind :]\n",
    "        # now reconstruct the bias matrices\n",
    "        # print(biases_flattened)\n",
    "        ind = 0\n",
    "        for i in range(self.num_layers - 1):\n",
    "            ret_bias.append((biases_flattened[ind: ind + self.node_counts[i + 1]])[:, None])\n",
    "            ind += self.node_counts[i + 1]\n",
    "        return ret, ret_bias\n",
    "\n",
    "\n",
    "    # passing inputs into the neural network and getting an output\n",
    "    @partial(jit, static_argnums=[0])\n",
    "    def output(self, coords, params):\n",
    "        # format the parameters as weights\n",
    "        c = self.convnd(params)\n",
    "        self.weights = c[0]\n",
    "        self.biases = c[1]\n",
    "        # compute the output of the neural network\n",
    "        for i in range(self.num_layers - 1):\n",
    "            w = jnp.array(self.weights[i])\n",
    "            b = jnp.array(self.biases[i])\n",
    "            # print(w)\n",
    "            # print(b)\n",
    "            # if its the first layer, dot it against the input and use the activation function\n",
    "            if i == 0:\n",
    "                temp = self.l_act(jnp.dot(w, coords))\n",
    "            elif (i < self.num_layers):\n",
    "                \n",
    "                temp = self.l_act(jnp.dot(w, temp) + b)\n",
    "            else:\n",
    "                # on the output layer we use the output activation function\n",
    "                temp = self.o_act(jnp.dot(w, temp) + b)\n",
    "        # print(\"output:\" + str(time.time() -  start))\n",
    "        return temp[0]\n",
    "\n",
    "# create the network object\n",
    "nn = Network()\n",
    "# make a jax random key\n",
    "key = jax.random.PRNGKey(np.random.randint(0,100))\n",
    "\n",
    "@jit\n",
    "def psi(coords, params):\n",
    "    return jnp.exp(-nn.output(coords, params)[0]) * jnp.exp(-coords**2)\n",
    "\n",
    "def sample(params, num_samples=10**3, thermalization_steps=200, skip_count=10):\n",
    "    outputs = []\n",
    "    # e_plots = []\n",
    "    coords_t = np.random.uniform(-5,5)\n",
    "    for step in range(num_samples*skip_count + thermalization_steps + 1):\n",
    "        coords_prime = coords_t + np.random.uniform(-5,5)\n",
    "        # e_plots.append(Hpsi(coords_prime, params, omega))\n",
    "        ar = psi(coords_prime, params)**2/psi(coords_t, params)**2\n",
    "        # a_r.append(ar)\n",
    "        if (np.random.uniform(0,1) < ar):\n",
    "            coords_t = coords_prime\n",
    "            \n",
    "        if (step > thermalization_steps):\n",
    "            if (step % skip_count == 0):\n",
    "                outputs.append(coords_t)\n",
    "    return jnp.array(outputs)\n",
    "\n",
    "@jit\n",
    "def sample_body(coords_t, params,key):\n",
    "    key, subkey = jax.random.split(key)\n",
    "    coords_prime = coords_t + jax.random.uniform(subkey,minval=-5,maxval=5)\n",
    "    key, subkey = jax.random.split(key)\n",
    "    return lax.cond(jax.random.uniform(subkey,minval=0,maxval=1) < psi(coords_prime, params)**2/psi(coords_t, params)**2, lambda x, y: x, lambda x, y : y, coords_prime, coords_t)\n",
    "\n",
    "def sample(params, num_samples=10**3, thermalization_steps=200, skip_count=10, key=key):\n",
    "    outputs = []\n",
    "    # e_plots = []\n",
    "    coords_t = np.random.uniform(-5,5)\n",
    "    for step in range(num_samples*skip_count + thermalization_steps + 1):\n",
    "        coords_t = sample_body(coords_t, params, key)\n",
    "        if ((step > thermalization_steps) & (step % skip_count == 0)):\n",
    "            outputs.append(coords_t)\n",
    "    return jnp.array(outputs)\n",
    "\n",
    "# second derivative of the wavefunction with respect to the coordinate\n",
    "ddpsi = jit(grad(jit(grad(psi, 0, allow_int = True)), 0, allow_int = True))\n",
    "\n",
    "@jit\n",
    "def Hpsi(coords, params, omega):\n",
    "    return (m*.5*omega**2*coords**2) - hbar**2 / (2*m) * jnp.sum(ddpsi(coords, params)) * 1/psi(coords, params)\n",
    "\n",
    "venergy = vmap(Hpsi, in_axes=(0, None, None), out_axes=0)\n",
    "\n",
    "\n",
    "@jit\n",
    "def logpsi(coords, params):\n",
    "    return jnp.log(psi(coords, params))\n",
    "\n",
    "# define the derivative with respect to every parameter of the log of psi:\n",
    "dlogpsi_dtheta_stored = jit(grad(logpsi, 1))\n",
    "\n",
    "vlog_term = jit(vmap(dlogpsi_dtheta_stored, in_axes=(0, None), out_axes=0))\n",
    "\n",
    "vboth = vmap(jnp.multiply, in_axes=(0, 0), out_axes=0)\n",
    "\n",
    "def gradient(params, omega, num_samples=10**3):\n",
    "    # get the samples\n",
    "    samples = sample(params, num_samples)\n",
    "    psiHpsi = venergy(samples, params, omega)\n",
    "    logs = vlog_term(samples, params)\n",
    "\n",
    "    energy = 1/num_samples * jnp.sum(psiHpsi)\n",
    "    print(energy)\n",
    "    log_term = 1/num_samples * jnp.sum(logs,0)\n",
    "\n",
    "    both = 1/num_samples * jnp.sum(vboth(psiHpsi, logs),0)\n",
    "\n",
    "    gradient_calc = (2 * both - 2*energy * log_term)\n",
    "    return gradient_calc, energy\n",
    "\n",
    "def avg_energy(params, omega, num_samples = 10**3):\n",
    "    samples = sample(params, num_samples)\n",
    "    psiHpsi = venergy(samples, params, omega)\n",
    "    return 1/num_samples * jnp.sum(psiHpsi)\n",
    "\n",
    "\n",
    "weight1 = []\n",
    "last_bias = []\n",
    "energies = []\n",
    "def vgrad_opt(start_params, omega, num_samples=10**3, learning_rate=.1, max_iterations=10000, tolerance=.000001):\n",
    "    params = start_params\n",
    "    hist = [start_params]\n",
    "\n",
    "    for it in range(max_iterations):\n",
    "        clear_output(wait=True)\n",
    "        gr = gradient(params, omega, num_samples)\n",
    "        energies.append(gr[1])\n",
    "        diff = jnp.asarray((learning_rate * gr[0]))\n",
    "        #print(diff)\n",
    "        # make a step in the direction opposite the gradient\n",
    "        params = params - diff\n",
    "        weight1.append(params[0])\n",
    "        last_bias.append(params[-1])\n",
    "        \n",
    "        # print(params)\n",
    "        hist.append(params)\n",
    "    return hist\n"
   ]
  },
  {
   "cell_type": "code",
   "execution_count": 7,
   "metadata": {},
   "outputs": [
    {
     "name": "stdout",
     "output_type": "stream",
     "text": [
      "0.15617632865905762\n",
      "0.1715836524963379\n"
     ]
    }
   ],
   "source": [
    "# profiling original sample\n",
    "start = time.time()\n",
    "samples = sample(nn.conv1d())\n",
    "print(time.time() - start)\n",
    "\n",
    "start = time.time()\n",
    "samples = sample(nn.conv1d())\n",
    "print(time.time() - start)\n"
   ]
  },
  {
   "cell_type": "code",
   "execution_count": 22,
   "metadata": {},
   "outputs": [
    {
     "ename": "UnboundLocalError",
     "evalue": "local variable 'key' referenced before assignment",
     "output_type": "error",
     "traceback": [
      "\u001b[0;31m---------------------------------------------------------------------------\u001b[0m",
      "\u001b[0;31mUnboundLocalError\u001b[0m                         Traceback (most recent call last)",
      "\u001b[1;32m/home/hersh/summer2022/neural/one_particle_harmonic_well.ipynb Cell 4\u001b[0m in \u001b[0;36m<cell line: 6>\u001b[0;34m()\u001b[0m\n\u001b[1;32m      <a href='vscode-notebook-cell://wsl%2Bubuntu/home/hersh/summer2022/neural/one_particle_harmonic_well.ipynb#X22sdnNjb2RlLXJlbW90ZQ%3D%3D?line=2'>3</a>\u001b[0m \u001b[39m#print(start_params)\u001b[39;00m\n\u001b[1;32m      <a href='vscode-notebook-cell://wsl%2Bubuntu/home/hersh/summer2022/neural/one_particle_harmonic_well.ipynb#X22sdnNjb2RlLXJlbW90ZQ%3D%3D?line=4'>5</a>\u001b[0m ysi \u001b[39m=\u001b[39m [psi(x, start_params) \u001b[39mfor\u001b[39;00m x \u001b[39min\u001b[39;00m xs]\n\u001b[0;32m----> <a href='vscode-notebook-cell://wsl%2Bubuntu/home/hersh/summer2022/neural/one_particle_harmonic_well.ipynb#X22sdnNjb2RlLXJlbW90ZQ%3D%3D?line=5'>6</a>\u001b[0m optd \u001b[39m=\u001b[39m vgrad_opt(start_params, omega)\n",
      "\u001b[1;32m/home/hersh/summer2022/neural/one_particle_harmonic_well.ipynb Cell 4\u001b[0m in \u001b[0;36mvgrad_opt\u001b[0;34m(start_params, omega, num_samples, learning_rate, max_iterations, tolerance)\u001b[0m\n\u001b[1;32m    <a href='vscode-notebook-cell://wsl%2Bubuntu/home/hersh/summer2022/neural/one_particle_harmonic_well.ipynb#X22sdnNjb2RlLXJlbW90ZQ%3D%3D?line=198'>199</a>\u001b[0m \u001b[39mfor\u001b[39;00m it \u001b[39min\u001b[39;00m \u001b[39mrange\u001b[39m(max_iterations):\n\u001b[1;32m    <a href='vscode-notebook-cell://wsl%2Bubuntu/home/hersh/summer2022/neural/one_particle_harmonic_well.ipynb#X22sdnNjb2RlLXJlbW90ZQ%3D%3D?line=199'>200</a>\u001b[0m     clear_output(wait\u001b[39m=\u001b[39m\u001b[39mTrue\u001b[39;00m)\n\u001b[0;32m--> <a href='vscode-notebook-cell://wsl%2Bubuntu/home/hersh/summer2022/neural/one_particle_harmonic_well.ipynb#X22sdnNjb2RlLXJlbW90ZQ%3D%3D?line=200'>201</a>\u001b[0m     gr \u001b[39m=\u001b[39m gradient(params, omega, num_samples)\n\u001b[1;32m    <a href='vscode-notebook-cell://wsl%2Bubuntu/home/hersh/summer2022/neural/one_particle_harmonic_well.ipynb#X22sdnNjb2RlLXJlbW90ZQ%3D%3D?line=201'>202</a>\u001b[0m     energies\u001b[39m.\u001b[39mappend(gr[\u001b[39m1\u001b[39m])\n\u001b[1;32m    <a href='vscode-notebook-cell://wsl%2Bubuntu/home/hersh/summer2022/neural/one_particle_harmonic_well.ipynb#X22sdnNjb2RlLXJlbW90ZQ%3D%3D?line=202'>203</a>\u001b[0m     diff \u001b[39m=\u001b[39m jnp\u001b[39m.\u001b[39masarray((learning_rate \u001b[39m*\u001b[39m gr[\u001b[39m0\u001b[39m]))\n",
      "\u001b[1;32m/home/hersh/summer2022/neural/one_particle_harmonic_well.ipynb Cell 4\u001b[0m in \u001b[0;36mgradient\u001b[0;34m(params, omega, num_samples)\u001b[0m\n\u001b[1;32m    <a href='vscode-notebook-cell://wsl%2Bubuntu/home/hersh/summer2022/neural/one_particle_harmonic_well.ipynb#X22sdnNjb2RlLXJlbW90ZQ%3D%3D?line=170'>171</a>\u001b[0m \u001b[39mdef\u001b[39;00m \u001b[39mgradient\u001b[39m(params, omega, num_samples\u001b[39m=\u001b[39m\u001b[39m10\u001b[39m\u001b[39m*\u001b[39m\u001b[39m*\u001b[39m\u001b[39m3\u001b[39m):\n\u001b[1;32m    <a href='vscode-notebook-cell://wsl%2Bubuntu/home/hersh/summer2022/neural/one_particle_harmonic_well.ipynb#X22sdnNjb2RlLXJlbW90ZQ%3D%3D?line=171'>172</a>\u001b[0m     \u001b[39m# get the samples\u001b[39;00m\n\u001b[0;32m--> <a href='vscode-notebook-cell://wsl%2Bubuntu/home/hersh/summer2022/neural/one_particle_harmonic_well.ipynb#X22sdnNjb2RlLXJlbW90ZQ%3D%3D?line=172'>173</a>\u001b[0m     samples \u001b[39m=\u001b[39m sample(params, num_samples)\n\u001b[1;32m    <a href='vscode-notebook-cell://wsl%2Bubuntu/home/hersh/summer2022/neural/one_particle_harmonic_well.ipynb#X22sdnNjb2RlLXJlbW90ZQ%3D%3D?line=173'>174</a>\u001b[0m     psiHpsi \u001b[39m=\u001b[39m venergy(samples, params, omega)\n\u001b[1;32m    <a href='vscode-notebook-cell://wsl%2Bubuntu/home/hersh/summer2022/neural/one_particle_harmonic_well.ipynb#X22sdnNjb2RlLXJlbW90ZQ%3D%3D?line=174'>175</a>\u001b[0m     logs \u001b[39m=\u001b[39m vlog_term(samples, params)\n",
      "\u001b[1;32m/home/hersh/summer2022/neural/one_particle_harmonic_well.ipynb Cell 4\u001b[0m in \u001b[0;36msample\u001b[0;34m(params, num_samples, thermalization_steps, skip_count)\u001b[0m\n\u001b[1;32m    <a href='vscode-notebook-cell://wsl%2Bubuntu/home/hersh/summer2022/neural/one_particle_harmonic_well.ipynb#X22sdnNjb2RlLXJlbW90ZQ%3D%3D?line=142'>143</a>\u001b[0m coords_t \u001b[39m=\u001b[39m np\u001b[39m.\u001b[39mrandom\u001b[39m.\u001b[39muniform(\u001b[39m-\u001b[39m\u001b[39m5\u001b[39m,\u001b[39m5\u001b[39m)\n\u001b[1;32m    <a href='vscode-notebook-cell://wsl%2Bubuntu/home/hersh/summer2022/neural/one_particle_harmonic_well.ipynb#X22sdnNjb2RlLXJlbW90ZQ%3D%3D?line=143'>144</a>\u001b[0m \u001b[39mfor\u001b[39;00m step \u001b[39min\u001b[39;00m \u001b[39mrange\u001b[39m(num_samples\u001b[39m*\u001b[39mskip_count \u001b[39m+\u001b[39m thermalization_steps \u001b[39m+\u001b[39m \u001b[39m1\u001b[39m):\n\u001b[0;32m--> <a href='vscode-notebook-cell://wsl%2Bubuntu/home/hersh/summer2022/neural/one_particle_harmonic_well.ipynb#X22sdnNjb2RlLXJlbW90ZQ%3D%3D?line=144'>145</a>\u001b[0m     coords_t \u001b[39m=\u001b[39m sample_body(coords_t, params)\n\u001b[1;32m    <a href='vscode-notebook-cell://wsl%2Bubuntu/home/hersh/summer2022/neural/one_particle_harmonic_well.ipynb#X22sdnNjb2RlLXJlbW90ZQ%3D%3D?line=145'>146</a>\u001b[0m     \u001b[39mif\u001b[39;00m ((step \u001b[39m>\u001b[39m thermalization_steps) \u001b[39m&\u001b[39m (step \u001b[39m%\u001b[39m skip_count \u001b[39m==\u001b[39m \u001b[39m0\u001b[39m)):\n\u001b[1;32m    <a href='vscode-notebook-cell://wsl%2Bubuntu/home/hersh/summer2022/neural/one_particle_harmonic_well.ipynb#X22sdnNjb2RlLXJlbW90ZQ%3D%3D?line=146'>147</a>\u001b[0m         outputs\u001b[39m.\u001b[39mappend(coords_t)\n",
      "    \u001b[0;31m[... skipping hidden 14 frame]\u001b[0m\n",
      "\u001b[1;32m/home/hersh/summer2022/neural/one_particle_harmonic_well.ipynb Cell 4\u001b[0m in \u001b[0;36msample_body\u001b[0;34m(coords_t, params)\u001b[0m\n\u001b[1;32m    <a href='vscode-notebook-cell://wsl%2Bubuntu/home/hersh/summer2022/neural/one_particle_harmonic_well.ipynb#X22sdnNjb2RlLXJlbW90ZQ%3D%3D?line=133'>134</a>\u001b[0m \u001b[39m@jit\u001b[39m\n\u001b[1;32m    <a href='vscode-notebook-cell://wsl%2Bubuntu/home/hersh/summer2022/neural/one_particle_harmonic_well.ipynb#X22sdnNjb2RlLXJlbW90ZQ%3D%3D?line=134'>135</a>\u001b[0m \u001b[39mdef\u001b[39;00m \u001b[39msample_body\u001b[39m(coords_t, params):\n\u001b[0;32m--> <a href='vscode-notebook-cell://wsl%2Bubuntu/home/hersh/summer2022/neural/one_particle_harmonic_well.ipynb#X22sdnNjb2RlLXJlbW90ZQ%3D%3D?line=135'>136</a>\u001b[0m     key, subkey \u001b[39m=\u001b[39m jax\u001b[39m.\u001b[39mrandom\u001b[39m.\u001b[39msplit(key)\n\u001b[1;32m    <a href='vscode-notebook-cell://wsl%2Bubuntu/home/hersh/summer2022/neural/one_particle_harmonic_well.ipynb#X22sdnNjb2RlLXJlbW90ZQ%3D%3D?line=136'>137</a>\u001b[0m     coords_prime \u001b[39m=\u001b[39m coords_t \u001b[39m+\u001b[39m jax\u001b[39m.\u001b[39mrandom\u001b[39m.\u001b[39muniform(subkey, \u001b[39m-\u001b[39m\u001b[39m5\u001b[39m,\u001b[39m5\u001b[39m)\n\u001b[1;32m    <a href='vscode-notebook-cell://wsl%2Bubuntu/home/hersh/summer2022/neural/one_particle_harmonic_well.ipynb#X22sdnNjb2RlLXJlbW90ZQ%3D%3D?line=137'>138</a>\u001b[0m     \u001b[39mreturn\u001b[39;00m lax\u001b[39m.\u001b[39mcond(np\u001b[39m.\u001b[39mrandom\u001b[39m.\u001b[39muniform(\u001b[39m0\u001b[39m,\u001b[39m1\u001b[39m) \u001b[39m<\u001b[39m psi(coords_prime, params)\u001b[39m*\u001b[39m\u001b[39m*\u001b[39m\u001b[39m2\u001b[39m\u001b[39m/\u001b[39mpsi(coords_t, params)\u001b[39m*\u001b[39m\u001b[39m*\u001b[39m\u001b[39m2\u001b[39m, \u001b[39mlambda\u001b[39;00m x, y: x, \u001b[39mlambda\u001b[39;00m x, y : y, coords_prime, coords_t)\n",
      "\u001b[0;31mUnboundLocalError\u001b[0m: local variable 'key' referenced before assignment"
     ]
    }
   ],
   "source": [
    "xs = np.linspace(-5,5,1000)\n",
    "start_params = nn.conv1d()\n",
    "#print(start_params)\n",
    "\n",
    "ysi = [psi(x, start_params) for x in xs]\n",
    "optd = vgrad_opt(start_params, omega)\n",
    "# plt.plot(weight1)\n",
    "# plt.plot(last_bias)\n",
    "# plt.show()\n",
    "# xs = np.linspace(-5,5,1000)\n",
    "# inp = [1.0,1.0,1.0]\n",
    "# ysi = [psi(x, inp) for x in xs]\n",
    "# optd = vgrad_opt(jnp.array(inp, float), omega)\n",
    "\n",
    "#print(optd[-1])"
   ]
  },
  {
   "cell_type": "code",
   "execution_count": 34,
   "metadata": {},
   "outputs": [
    {
     "data": {
      "image/png": "[encoded data removed]",
      "text/plain": [
       "<Figure size 640x480 with 1 Axes>"
      ]
     },
     "metadata": {},
     "output_type": "display_data"
    }
   ],
   "source": [
    "\n",
    "# a_r = []\n",
    "# def sample(params, num_samples=10**3, thermalization_steps=200, skip_count=10):\n",
    "#     outputs = []\n",
    "#     e_plots = []\n",
    "#     coords_t = np.random.uniform(-5,5)\n",
    "#     for step in range(num_samples*skip_count + thermalization_steps + 1):\n",
    "#         coords_prime = coords_t + np.random.uniform(-5,5)\n",
    "#         e_plots.append(Hpsi(coords_prime, params, omega))\n",
    "#         ar = psi(coords_prime, params)**2/psi(coords_t, params)**2\n",
    "        \n",
    "#         if (np.random.uniform(0,1) < ar):\n",
    "#             coords_t = coords_prime\n",
    "            \n",
    "#         if (step > thermalization_steps):\n",
    "#             a_r.append(ar)\n",
    "#             if (step % skip_count == 0):\n",
    "#                 outputs.append(coords_t)\n",
    "#     return jnp.array(outputs), e_plots\n",
    "    \n",
    "\n",
    "\n",
    "samples = sample(nn.conv1d())\n",
    "# print(len(samples[0]))\n",
    "\n",
    "# print(np.average(a_r))\n",
    "plt.hist(samples)\n",
    "plt.show()\n",
    "# plt.plot(samples[1])\n",
    "# plt.title(\"Energy vs step count\")\n",
    "# plt.xlim(0,200)\n",
    "# plt.show()\n",
    "\n"
   ]
  },
  {
   "cell_type": "code",
   "execution_count": null,
   "metadata": {},
   "outputs": [
    {
     "ename": "NameError",
     "evalue": "name 'optd' is not defined",
     "output_type": "error",
     "traceback": [
      "\u001b[0;31m---------------------------------------------------------------------------\u001b[0m",
      "\u001b[0;31mNameError\u001b[0m                                 Traceback (most recent call last)",
      "\u001b[1;32m/home/hersh/summer2022/neural/one_particle_harmonic_well.ipynb Cell 5\u001b[0m in \u001b[0;36m<cell line: 9>\u001b[0;34m()\u001b[0m\n\u001b[1;32m      <a href='vscode-notebook-cell://wsl%2Bubuntu-22.04/home/hersh/summer2022/neural/one_particle_harmonic_well.ipynb#X25sdnNjb2RlLXJlbW90ZQ%3D%3D?line=6'>7</a>\u001b[0m plt\u001b[39m.\u001b[39mxlabel(\u001b[39m\"\u001b[39m\u001b[39mIteration of Gradient Descent\u001b[39m\u001b[39m\"\u001b[39m)\n\u001b[1;32m      <a href='vscode-notebook-cell://wsl%2Bubuntu-22.04/home/hersh/summer2022/neural/one_particle_harmonic_well.ipynb#X25sdnNjb2RlLXJlbW90ZQ%3D%3D?line=7'>8</a>\u001b[0m plt\u001b[39m.\u001b[39mylabel(\u001b[39m\"\u001b[39m\u001b[39mAverage Energy\u001b[39m\u001b[39m\"\u001b[39m)\n\u001b[0;32m----> <a href='vscode-notebook-cell://wsl%2Bubuntu-22.04/home/hersh/summer2022/neural/one_particle_harmonic_well.ipynb#X25sdnNjb2RlLXJlbW90ZQ%3D%3D?line=8'>9</a>\u001b[0m plt\u001b[39m.\u001b[39mplot(np\u001b[39m.\u001b[39marange(\u001b[39m0\u001b[39m,\u001b[39mlen\u001b[39m(optd[\u001b[39m1\u001b[39m:])), energies)\n\u001b[1;32m     <a href='vscode-notebook-cell://wsl%2Bubuntu-22.04/home/hersh/summer2022/neural/one_particle_harmonic_well.ipynb#X25sdnNjb2RlLXJlbW90ZQ%3D%3D?line=9'>10</a>\u001b[0m plt\u001b[39m.\u001b[39mplot(np\u001b[39m.\u001b[39marange(\u001b[39m0\u001b[39m, \u001b[39mlen\u001b[39m(optd[\u001b[39m1\u001b[39m:])), [\u001b[39m.5\u001b[39m \u001b[39mfor\u001b[39;00m x \u001b[39min\u001b[39;00m np\u001b[39m.\u001b[39marange(\u001b[39m0\u001b[39m, \u001b[39mlen\u001b[39m(optd[\u001b[39m1\u001b[39m:]))])\n\u001b[1;32m     <a href='vscode-notebook-cell://wsl%2Bubuntu-22.04/home/hersh/summer2022/neural/one_particle_harmonic_well.ipynb#X25sdnNjb2RlLXJlbW90ZQ%3D%3D?line=10'>11</a>\u001b[0m plt\u001b[39m.\u001b[39mshow()\n",
      "\u001b[0;31mNameError\u001b[0m: name 'optd' is not defined"
     ]
    },
    {
     "data": {
      "image/png": "[encoded data removed]",
      "text/plain": [
       "<Figure size 432x288 with 1 Axes>"
      ]
     },
     "metadata": {
      "needs_background": "light"
     },
     "output_type": "display_data"
    }
   ],
   "source": [
    "# plot the energy over the course of the optimization\n",
    "# ys = []\n",
    "# for param in optd:\n",
    "#     ys.append(avg_energy(param, omega,10**3))\n",
    "\n",
    "plt.title(\"Average Energy\")\n",
    "plt.xlabel(\"Iteration of Gradient Descent\")\n",
    "plt.ylabel(\"Average Energy\")\n",
    "plt.plot(np.arange(0,len(optd[1:])), energies)\n",
    "plt.plot(np.arange(0, len(optd[1:])), [.5 for x in np.arange(0, len(optd[1:]))])\n",
    "plt.show()"
   ]
  },
  {
   "cell_type": "code",
   "execution_count": null,
   "metadata": {},
   "outputs": [
    {
     "data": {
      "image/png": "[encoded data removed]",
      "text/plain": [
       "<Figure size 640x480 with 1 Axes>"
      ]
     },
     "metadata": {},
     "output_type": "display_data"
    }
   ],
   "source": [
    "ys = [psi(x, optd[-1]) for x in xs]\n",
    "yse = [((m*omega)/(np.pi*hbar))**(1/4)*np.exp(-m*omega*x**2/(2*hbar)) for x in xs]\n",
    "yse = [np.exp(-x**2) for x in xs]\n",
    "plt.title(r\"One Particle In Harmonic Oscillator Potential\")\n",
    "plt.plot(xs,ysi, \"--\",label=\"Initial\",)\n",
    "plt.plot(xs,ys, label=\"Final\")\n",
    "plt.plot(xs,yse, label=\"True\")\n",
    "plt.legend()\n",
    "plt.show()"
   ]
  },
  {
   "cell_type": "code",
   "execution_count": null,
   "metadata": {},
   "outputs": [
    {
     "name": "stdout",
     "output_type": "stream",
     "text": [
      "True GS:  0.5\n"
     ]
    },
    {
     "ename": "ValueError",
     "evalue": "vmap was requested to map its argument along axis 0, which implies that its rank should be at least 1, but is only 0 (its shape is ())",
     "output_type": "error",
     "traceback": [
      "\u001b[0;31m---------------------------------------------------------------------------\u001b[0m",
      "\u001b[0;31mIndexError\u001b[0m                                Traceback (most recent call last)",
      "File \u001b[0;32m~/.local/lib/python3.8/site-packages/jax/_src/api.py:1586\u001b[0m, in \u001b[0;36m_mapped_axis_size.<locals>._get_axis_size\u001b[0;34m(name, shape, axis)\u001b[0m\n\u001b[1;32m   1585\u001b[0m \u001b[39mtry\u001b[39;00m:\n\u001b[0;32m-> 1586\u001b[0m   \u001b[39mreturn\u001b[39;00m shape[axis]\n\u001b[1;32m   1587\u001b[0m \u001b[39mexcept\u001b[39;00m (\u001b[39mIndexError\u001b[39;00m, \u001b[39mTypeError\u001b[39;00m) \u001b[39mas\u001b[39;00m e:\n",
      "\u001b[0;31mIndexError\u001b[0m: tuple index out of range",
      "\nThe above exception was the direct cause of the following exception:\n",
      "\u001b[0;31mValueError\u001b[0m                                Traceback (most recent call last)",
      "\u001b[1;32m/home/hersh/summer2022/neural/one_particle_harmonic_well.ipynb Cell 7\u001b[0m in \u001b[0;36m<cell line: 2>\u001b[0;34m()\u001b[0m\n\u001b[1;32m      <a href='vscode-notebook-cell://wsl%2Bubuntu/home/hersh/summer2022/neural/one_particle_harmonic_well.ipynb#X10sdnNjb2RlLXJlbW90ZQ%3D%3D?line=0'>1</a>\u001b[0m \u001b[39mprint\u001b[39m(\u001b[39m\"\u001b[39m\u001b[39mTrue GS: \u001b[39m\u001b[39m\"\u001b[39m, hbar\u001b[39m*\u001b[39momega\u001b[39m/\u001b[39m\u001b[39m2\u001b[39m)\n\u001b[0;32m----> <a href='vscode-notebook-cell://wsl%2Bubuntu/home/hersh/summer2022/neural/one_particle_harmonic_well.ipynb#X10sdnNjb2RlLXJlbW90ZQ%3D%3D?line=1'>2</a>\u001b[0m \u001b[39mprint\u001b[39m(\u001b[39m\"\u001b[39m\u001b[39mNN GS: \u001b[39m\u001b[39m\"\u001b[39m, avg_energy(optd[\u001b[39m-\u001b[39;49m\u001b[39m1\u001b[39;49m], omega, \u001b[39m10\u001b[39;49m\u001b[39m*\u001b[39;49m\u001b[39m*\u001b[39;49m\u001b[39m3\u001b[39;49m))\n",
      "\u001b[1;32m/home/hersh/summer2022/neural/one_particle_harmonic_well.ipynb Cell 7\u001b[0m in \u001b[0;36mavg_energy\u001b[0;34m(params, omega, num_samples)\u001b[0m\n\u001b[1;32m    <a href='vscode-notebook-cell://wsl%2Bubuntu/home/hersh/summer2022/neural/one_particle_harmonic_well.ipynb#X10sdnNjb2RlLXJlbW90ZQ%3D%3D?line=188'>189</a>\u001b[0m \u001b[39mdef\u001b[39;00m \u001b[39mavg_energy\u001b[39m(params, omega, num_samples \u001b[39m=\u001b[39m \u001b[39m10\u001b[39m\u001b[39m*\u001b[39m\u001b[39m*\u001b[39m\u001b[39m3\u001b[39m):\n\u001b[1;32m    <a href='vscode-notebook-cell://wsl%2Bubuntu/home/hersh/summer2022/neural/one_particle_harmonic_well.ipynb#X10sdnNjb2RlLXJlbW90ZQ%3D%3D?line=189'>190</a>\u001b[0m     samples \u001b[39m=\u001b[39m sample(params, num_samples)\n\u001b[0;32m--> <a href='vscode-notebook-cell://wsl%2Bubuntu/home/hersh/summer2022/neural/one_particle_harmonic_well.ipynb#X10sdnNjb2RlLXJlbW90ZQ%3D%3D?line=190'>191</a>\u001b[0m     psiHpsi \u001b[39m=\u001b[39m venergy(samples, params, omega)\n\u001b[1;32m    <a href='vscode-notebook-cell://wsl%2Bubuntu/home/hersh/summer2022/neural/one_particle_harmonic_well.ipynb#X10sdnNjb2RlLXJlbW90ZQ%3D%3D?line=191'>192</a>\u001b[0m     \u001b[39mreturn\u001b[39;00m \u001b[39m1\u001b[39m\u001b[39m/\u001b[39mnum_samples \u001b[39m*\u001b[39m jnp\u001b[39m.\u001b[39msum(psiHpsi)\n",
      "    \u001b[0;31m[... skipping hidden 6 frame]\u001b[0m\n",
      "File \u001b[0;32m~/.local/lib/python3.8/site-packages/jax/_src/api.py:1589\u001b[0m, in \u001b[0;36m_mapped_axis_size.<locals>._get_axis_size\u001b[0;34m(name, shape, axis)\u001b[0m\n\u001b[1;32m   1587\u001b[0m \u001b[39mexcept\u001b[39;00m (\u001b[39mIndexError\u001b[39;00m, \u001b[39mTypeError\u001b[39;00m) \u001b[39mas\u001b[39;00m e:\n\u001b[1;32m   1588\u001b[0m   min_rank \u001b[39m=\u001b[39m axis \u001b[39m+\u001b[39m \u001b[39m1\u001b[39m \u001b[39mif\u001b[39;00m axis \u001b[39m>\u001b[39m\u001b[39m=\u001b[39m \u001b[39m0\u001b[39m \u001b[39melse\u001b[39;00m \u001b[39m-\u001b[39maxis\n\u001b[0;32m-> 1589\u001b[0m   \u001b[39mraise\u001b[39;00m \u001b[39mValueError\u001b[39;00m(\n\u001b[1;32m   1590\u001b[0m       \u001b[39mf\u001b[39m\u001b[39m\"\u001b[39m\u001b[39m{\u001b[39;00mname\u001b[39m}\u001b[39;00m\u001b[39m was requested to map its argument along axis \u001b[39m\u001b[39m{\u001b[39;00maxis\u001b[39m}\u001b[39;00m\u001b[39m, \u001b[39m\u001b[39m\"\u001b[39m\n\u001b[1;32m   1591\u001b[0m       \u001b[39mf\u001b[39m\u001b[39m\"\u001b[39m\u001b[39mwhich implies that its rank should be at least \u001b[39m\u001b[39m{\u001b[39;00mmin_rank\u001b[39m}\u001b[39;00m\u001b[39m, \u001b[39m\u001b[39m\"\u001b[39m\n\u001b[1;32m   1592\u001b[0m       \u001b[39mf\u001b[39m\u001b[39m\"\u001b[39m\u001b[39mbut is only \u001b[39m\u001b[39m{\u001b[39;00m\u001b[39mlen\u001b[39m(shape)\u001b[39m}\u001b[39;00m\u001b[39m (its shape is \u001b[39m\u001b[39m{\u001b[39;00mshape\u001b[39m}\u001b[39;00m\u001b[39m)\u001b[39m\u001b[39m\"\u001b[39m) \u001b[39mfrom\u001b[39;00m \u001b[39me\u001b[39;00m\n",
      "\u001b[0;31mValueError\u001b[0m: vmap was requested to map its argument along axis 0, which implies that its rank should be at least 1, but is only 0 (its shape is ())"
     ]
    }
   ],
   "source": [
    "print(\"True GS: \", hbar*omega/2)\n",
    "print(\"NN GS: \", avg_energy(optd[-1], omega, 10**3))\n"
   ]
  }
 ],
 "metadata": {
  "kernelspec": {
   "display_name": "Python 3.8.10 64-bit",
   "language": "python",
   "name": "python3"
  },
  "language_info": {
   "codemirror_mode": {
    "name": "ipython",
    "version": 3
   },
   "file_extension": ".py",
   "mimetype": "text/x-python",
   "name": "python",
   "nbconvert_exporter": "python",
   "pygments_lexer": "ipython3",
   "version": "3.8.10"
  },
  "orig_nbformat": 4,
  "vscode": {
   "interpreter": {
    "hash": "916dbcbb3f70747c44a77c7bcd40155683ae19c65e1c03b4aa3499c5328201f1"
   }
  }
 },
 "nbformat": 4,
 "nbformat_minor": 2
}
