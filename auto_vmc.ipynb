{
 "cells": [
  {
   "cell_type": "code",
   "execution_count": 19,
   "metadata": {},
   "outputs": [
    {
     "name": "stdout",
     "output_type": "stream",
     "text": [
      "1.0\n"
     ]
    }
   ],
   "source": [
    "import numpy as np\n",
    "from matplotlib import pyplot as plt\n",
    "import random\n",
    "from autograd import grad\n",
    "\n",
    "lam = 0\n",
    "num_params = 3\n",
    "\n",
    "def psi(x, params):\n",
    "    return params[0] * np.exp(-params[1] *(x + params[2])**2)\n",
    "\n",
    "def blah(x):\n",
    "    return x\n",
    "\n",
    "dpsi = grad(blah)\n",
    "\n",
    "print(dpsi(2.0))"
   ]
  },
  {
   "cell_type": "code",
   "execution_count": 13,
   "metadata": {},
   "outputs": [
    {
     "name": "stdout",
     "output_type": "stream",
     "text": [
      "1.0\n"
     ]
    }
   ],
   "source": []
  }
 ],
 "metadata": {
  "kernelspec": {
   "display_name": "Python 3.10.2 64-bit",
   "language": "python",
   "name": "python3"
  },
  "language_info": {
   "codemirror_mode": {
    "name": "ipython",
    "version": 3
   },
   "file_extension": ".py",
   "mimetype": "text/x-python",
   "name": "python",
   "nbconvert_exporter": "python",
   "pygments_lexer": "ipython3",
   "version": "3.10.2"
  },
  "orig_nbformat": 4,
  "vscode": {
   "interpreter": {
    "hash": "617eb40fd466985893210fcf6dfa86b4a48494030010f760d59cb6ed33b6da17"
   }
  }
 },
 "nbformat": 4,
 "nbformat_minor": 2
}
