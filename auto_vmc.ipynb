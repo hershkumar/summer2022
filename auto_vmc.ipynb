{
 "cells": [
  {
   "cell_type": "code",
   "execution_count": 1,
   "metadata": {},
   "outputs": [],
   "source": [
    "import numpy as np\n",
    "import jax.numpy as jnp\n",
    "from matplotlib import pyplot as plt\n",
    "import random\n",
    "from jax import grad, jit\n",
    "from IPython.display import clear_output\n",
    "\n",
    "\n",
    "lam = .2\n",
    "num_params = 6\n",
    "\n",
    "def psi(x, params):\n",
    "    return params[0] * jnp.exp(-params[1] * (x + params[2])**2) + params[3] * jnp.exp(- params[4] * (x + params[5])**2)\n",
    "\n",
    "def logpsi(x, params):\n",
    "    return jnp.log(psi(x, params))\n",
    "# compute the partial with respect to x\n",
    "ddpsi = jit(grad(jit(grad(psi, 0, allow_int=True)), 0, allow_int=True))\n",
    "\n",
    "partials = jit(grad(logpsi, argnums=1))\n",
    "\n",
    "def V(x):\n",
    "    return 1/2 * x**2 + lam * x**4\n",
    "\n",
    "def Hpsi(x, params):\n",
    "    return V(x) * psi(x, params) - 1/2 * ddpsi(float(x), params)\n",
    "\n",
    "def grad_log_psi(x_inp, params):\n",
    "    # this will return a vector of length len(params)\n",
    "    grad = np.zeros(len(params))\n",
    "    # now add in the derivatives with respect to each variable\n",
    "    for i in range(num_params):\n",
    "        grad[i] = partials(float(x_inp), params)[i]\n",
    "    return grad\n",
    "\n",
    "def sample(params, num_samples):\n",
    "    outputs = []\n",
    "    x_t = 0\n",
    "    for _ in range(num_samples):\n",
    "        x_prime = x_t + random.uniform(-1,1)\n",
    "        if (random.uniform(0,1) < psi(x_prime, params)**2/psi(x_t,params)**2):\n",
    "            x_t = x_prime\n",
    "        outputs.append(x_t)\n",
    "    return outputs\n",
    "\n",
    "def avg_energy(params, N=10**3):\n",
    "    # get N sampled points\n",
    "    samples = sample(params, N)\n",
    "    # apply the function to every point\n",
    "    applied = [(1/psi(x_a, params) * Hpsi(x_a, params)) for x_a in samples]\n",
    "    return 1/N * sum(applied)\n",
    "\n",
    "def gradient(params, N):\n",
    "    samples = sample(params, N)\n",
    "    # now compute the 3 different averages\n",
    "    energy_exp = 1/N * sum([(1/psi(x_a, params) * Hpsi(x_a, params)) for x_a in samples])\n",
    "    print(\"Average Energy: \" + str(energy_exp))\n",
    "    gradlogpsi_exp = 1/N * sum([grad_log_psi(x_a, params) for x_a in samples], 0)\n",
    "    both_exp = 1/N * sum([(1/psi(x_a, params) * grad_log_psi(x_a, params) * Hpsi(x_a, params)) for x_a in samples], 0)\n",
    "    return (2 * both_exp - 2 * energy_exp * gradlogpsi_exp)\n",
    "\n",
    "# write a gradient descent optimizer for the average energy\n",
    "def grad_opt(start_params, learning_rate=.1, max_iterations=100, tolerance=.001, N=10**3):\n",
    "    # pick the starting position\n",
    "    params = start_params\n",
    "    hist = []\n",
    "    # iterate until we run out of iterations or less than tolerance\n",
    "    for it in range(max_iterations):\n",
    "        clear_output(wait=True)\n",
    "        # compute the gradient at that point\n",
    "        diff = np.asarray((learning_rate * gradient(params, N)))\n",
    "        if all((abs(val) < tolerance) for val in diff):\n",
    "            print(\"All under tolerance\")\n",
    "            return hist\n",
    "        # make a step in the direction opposite the gradient\n",
    "        params = params - diff\n",
    "        # print(params)\n",
    "        hist.append(params)\n",
    "    return hist"
   ]
  },
  {
   "cell_type": "code",
   "execution_count": 2,
   "metadata": {},
   "outputs": [
    {
     "name": "stdout",
     "output_type": "stream",
     "text": [
      "Average Energy: 0.60639435\n",
      "All under tolerance\n"
     ]
    }
   ],
   "source": [
    "start = [.5, .5, 1.0,.5, .2, 0.1]\n",
    "\n",
    "hist = grad_opt(start)\n",
    "optd = hist[-1]"
   ]
  },
  {
   "cell_type": "code",
   "execution_count": 3,
   "metadata": {},
   "outputs": [
    {
     "name": "stdout",
     "output_type": "stream",
     "text": [
      "[ 0.18423317  0.79533803  0.5413684   0.69511464  0.74802265 -0.13086132]\n",
      "Minimized Energy: 0.6023044586181641\n"
     ]
    },
    {
     "data": {
      "image/png": "[encoded data removed]",
      "text/plain": [
       "<Figure size 432x288 with 1 Axes>"
      ]
     },
     "metadata": {
      "needs_background": "light"
     },
     "output_type": "display_data"
    }
   ],
   "source": [
    "#plot the wavefunction\n",
    "print(optd)\n",
    "x_vals = np.linspace(-10,10,100)\n",
    "y = [psi(x_a, optd) for x_a in x_vals]\n",
    "v = [V(x_a) for x_a in x_vals]\n",
    "comp_avg = avg_energy(optd, 10**3)\n",
    "print(f\"Minimized Energy: {comp_avg}\")\n",
    "# true_energy = fifth_corrections()\n",
    "# print(f\"True GS Energy: {true_energy}\")\n",
    "# pdiff = 100*(true_energy -  comp_avg)/true_energy\n",
    "# print(f\"Percent Difference: {pdiff}\")\n",
    "plt.plot(x_vals,y)\n",
    "#plt.plot(x_vals,v)\n",
    "plt.grid()\n",
    "plt.show()"
   ]
  },
  {
   "cell_type": "code",
   "execution_count": 144,
   "metadata": {},
   "outputs": [
    {
     "data": {
      "image/png": "[encoded data removed]",
      "text/plain": [
       "<Figure size 432x288 with 1 Axes>"
      ]
     },
     "metadata": {
      "needs_background": "light"
     },
     "output_type": "display_data"
    }
   ],
   "source": [
    "en = [avg_energy(x) for x in hist]\n",
    "plt.plot(en)\n",
    "plt.title(\"Energy vs. Iteration\")\n",
    "plt.ylabel(\"Energy\")\n",
    "plt.xlabel(\"Iteration\")\n",
    "plt.show()"
   ]
  }
 ],
 "metadata": {
  "kernelspec": {
   "display_name": "Python 3.10.4 64-bit",
   "language": "python",
   "name": "python3"
  },
  "language_info": {
   "codemirror_mode": {
    "name": "ipython",
    "version": 3
   },
   "file_extension": ".py",
   "mimetype": "text/x-python",
   "name": "python",
   "nbconvert_exporter": "python",
   "pygments_lexer": "ipython3",
   "version": "3.10.4"
  },
  "orig_nbformat": 4,
  "vscode": {
   "interpreter": {
    "hash": "916dbcbb3f70747c44a77c7bcd40155683ae19c65e1c03b4aa3499c5328201f1"
   }
  }
 },
 "nbformat": 4,
 "nbformat_minor": 2
}
