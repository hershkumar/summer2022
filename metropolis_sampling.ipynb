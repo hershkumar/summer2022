{
 "cells": [
  {
   "cell_type": "markdown",
   "metadata": {},
   "source": [
    "### Metropolis-Hastings Algorithm\n",
    "This is based on the pdf `monte_carlo.pdf`."
   ]
  },
  {
   "cell_type": "code",
   "execution_count": 60,
   "metadata": {},
   "outputs": [],
   "source": [
    "import numpy as np\n",
    "from matplotlib import pyplot as plt\n",
    "import random\n",
    "from scipy import integrate\n",
    "\n",
    "# first we define our S(x) function\n",
    "def S(x):\n",
    "    return (-x**2 + x**4)\n",
    "# define the negative exponential of the function\n",
    "def expd(x):\n",
    "    return np.exp(-S(x))\n",
    "\n",
    "# define pi(x), the probability distribution\n",
    "area = integrate.quad(expd, -np.inf, np.inf)[0]\n",
    "def pi(x):\n",
    "    return expd(x)/area\n",
    "\n",
    "def metropolis(num_samples, epsilon):\n",
    "    outputs = []\n",
    "    # pick our starting point\n",
    "    x_t = 0\n",
    "    \n",
    "    for t in range(num_samples):\n",
    "        if epsilon == 0:\n",
    "            # generate a proposed next point, picked uniformly between -1.5 and 1.5\n",
    "            x_prime = (3) * np.random.random_sample() - 1.5\n",
    "        else:\n",
    "            # generate a proposed next point, via x_prime = x_t + eta\n",
    "            x_prime = x_t + np.random.uniform(-epsilon, epsilon)\n",
    "\n",
    "        # check whether we accept or reject the point\n",
    "        if (random.uniform(0,1) < pi(x_prime)/pi(x_t)):\n",
    "            # if we accept, we modify the point, and use that as the starting point\n",
    "            x_t = x_prime\n",
    "        # add the chosen point to the list of points generated\n",
    "        outputs.append(x_t)\n",
    "    return outputs"
   ]
  },
  {
   "cell_type": "code",
   "execution_count": 62,
   "metadata": {},
   "outputs": [
    {
     "data": {
      "image/png": "[encoded data removed]",
      "text/plain": [
       "<Figure size 432x288 with 1 Axes>"
      ]
     },
     "metadata": {
      "needs_background": "light"
     },
     "output_type": "display_data"
    }
   ],
   "source": [
    "num_samples = 10**4\n",
    "epsilon = 1\n",
    "x = np.linspace(-1.6, 1.6, 1000)\n",
    "y = pi(x)\n",
    "met = metropolis(num_samples, epsilon)\n",
    "\n",
    "yhist, xhist, _ = plt.hist(met, bins=50,density=True,edgecolor='black')\n",
    "plt.plot(x,y)\n",
    "plt.show()"
   ]
  }
 ],
 "metadata": {
  "kernelspec": {
   "display_name": "Python 3.10.4 64-bit",
   "language": "python",
   "name": "python3"
  },
  "language_info": {
   "codemirror_mode": {
    "name": "ipython",
    "version": 3
   },
   "file_extension": ".py",
   "mimetype": "text/x-python",
   "name": "python",
   "nbconvert_exporter": "python",
   "pygments_lexer": "ipython3",
   "version": "3.10.4"
  },
  "orig_nbformat": 4,
  "vscode": {
   "interpreter": {
    "hash": "916dbcbb3f70747c44a77c7bcd40155683ae19c65e1c03b4aa3499c5328201f1"
   }
  }
 },
 "nbformat": 4,
 "nbformat_minor": 2
}
