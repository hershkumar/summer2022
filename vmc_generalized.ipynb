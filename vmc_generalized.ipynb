{
 "cells": [
  {
   "cell_type": "markdown",
   "metadata": {},
   "source": [
    "#### Generalizing the VMC to arbitrary number of parameters\n",
    "This now takes in a wavefunction with an arbitrary number of parameters, and then instead of \n",
    "generating a plot to find the minimum average energy, it uses the gradient descent algorithm\n",
    "to find the minimum.\n",
    "\n",
    "by changing the `num_params` variable, we vary the number of parameters that the method uses. We then define `sym_psi` which defines the trial wavefunction, in terms of `x` and the parameters. We then run a gradient descent optimizer to find the minimum value of the energy. "
   ]
  },
  {
   "cell_type": "code",
   "execution_count": 9,
   "metadata": {},
   "outputs": [],
   "source": [
    "import numpy as np\n",
    "from matplotlib import pyplot as plt\n",
    "import random\n",
    "import sympy as sym\n",
    "from IPython.display import clear_output\n",
    "\n",
    "m = 1\n",
    "omega = 1\n",
    "lam = .01\n",
    "hbar = 1\n",
    "num_params = 9\n",
    "true_energy = .5 + .75*lam\n",
    "# define all the symbolic variables and expressions\n",
    "x = sym.Symbol('x')\n",
    "p = [sym.symbols('a%d' % i) for i in range(num_params)]\n",
    "# the wavefunction\n",
    "sym_psi = p[0]*sym.exp(-p[1]*(x + p[2])**2) + p[3] * sym.exp(-p[4]*(x+p[5])**2) + p[6] * sym.exp(-p[7]*(x+p[8])**2)\n",
    "\n",
    "sym_ddpsi = sym.diff(sym.diff(sym_psi, x), x)\n",
    "# the partial derivatives of the log of psi\n",
    "partials = [sym.diff(sym.log(sym_psi), p[i]) for i in range(num_params)]\n",
    "# functions that compute the gradient vector terms\n",
    "logpsis = [sym.lambdify([x,p], partials[i]) for i in range(num_params)]\n",
    "\n",
    "# define the potential\n",
    "def V(x_inp):\n",
    "    return 1/2 * m * omega**2 * x_inp**2 + lam * x_inp**4\n",
    "\n",
    "# define the wavefunction\n",
    "psi = sym.lambdify([x,p], sym_psi)\n",
    "\n",
    "# define the second derivative w.r.t x of the wavefunction\n",
    "ddpsi = sym.lambdify([x,p], sym_ddpsi)\n",
    "\n",
    "# defines the gradient of the log of psi wrt to the parameters\n",
    "def grad_log_psi(x_inp, params):\n",
    "    # this will return a vector of length len(params)\n",
    "    grad = np.zeros(len(params))\n",
    "    # now add in the derivatives with respect to each variable\n",
    "    for i in range(num_params):\n",
    "        grad[i] = logpsis[i](x_inp, params)\n",
    "    return grad\n",
    "\n",
    "# define the Hamiltonian applied to psi\n",
    "def Hpsi(x_inp, params):\n",
    "    return V(x_inp)*psi(x_inp,params) - hbar**2/(2*m) * ddpsi(x_inp, params)\n",
    "\n",
    "# define the function that samples the probability distribution\n",
    "# uses the metropolis sampling method\n",
    "def sample(params, num_samples):\n",
    "    outputs = []\n",
    "    # pick the start point\n",
    "    x_t = 0\n",
    "    for t in range(num_samples):\n",
    "        x_prime = x_t + random.uniform(-1,1)\n",
    "        \n",
    "        if (random.uniform(0,1) < psi(x_prime, params)**2/psi(x_t, params)**2):\n",
    "            x_t = x_prime\n",
    "        outputs.append(x_t)\n",
    "    return outputs\n",
    "\n",
    "# define a function that computes the average energy\n",
    "def avg_energy(params, N):\n",
    "    # get N sampled points\n",
    "    samples = sample(params, N)\n",
    "    # apply the function to every point\n",
    "    applied = [(1/psi(x_a, params) * Hpsi(x_a, params)) for x_a in samples]\n",
    "    return 1/N * sum(applied)\n",
    "\n",
    "# computes the gradient with respect to the parameters of the energy\n",
    "def gradient(params, N):\n",
    "    samples = sample(params, N)\n",
    "    # now compute the 3 different averages\n",
    "    energy_exp = 1/N * sum([(1/psi(x_a, params) * Hpsi(x_a, params)) for x_a in samples])\n",
    "    print(\"Average Energy: \" + str(energy_exp))\n",
    "    gradlogpsi_exp = 1/N * sum([grad_log_psi(x_a, params) for x_a in samples], 0)\n",
    "    both_exp = 1/N * sum([(1/psi(x_a, params) * grad_log_psi(x_a, params) * Hpsi(x_a, params)) for x_a in samples], 0)\n",
    "    return (2 * both_exp - 2 * energy_exp * gradlogpsi_exp)\n",
    "\n",
    "# write a gradient descent optimizer for the average energy\n",
    "def grad_opt(start_params, learning_rate, max_iterations=1000, tolerance=.001, N=10**4):\n",
    "    # pick the starting position\n",
    "    params = start_params\n",
    "    hist = []\n",
    "    # iterate until we run out of iterations or less than tolerance\n",
    "    for it in range(max_iterations):\n",
    "        clear_output(wait=True)\n",
    "        # compute the gradient at that point\n",
    "        diff = learning_rate * gradient(params, N) \n",
    "        if all((abs(val) < tolerance) for val in diff):\n",
    "            print(\"All under tolerance\")\n",
    "            return params\n",
    "        # make a step in the direction opposite the gradient\n",
    "        params = params - diff\n",
    "        # print(params)\n",
    "        hist.append(params)\n",
    "    return params"
   ]
  },
  {
   "cell_type": "code",
   "execution_count": 10,
   "metadata": {},
   "outputs": [
    {
     "name": "stdout",
     "output_type": "stream",
     "text": [
      "Average Energy: 0.7442698051901383\n",
      "All under tolerance\n"
     ]
    }
   ],
   "source": [
    "start = [.5,.5,.5,0,.6,.1,.5,.5,.5]\n",
    "\n",
    "optd = grad_opt(start, .1, N=10**4)"
   ]
  },
  {
   "cell_type": "code",
   "execution_count": 11,
   "metadata": {},
   "outputs": [
    {
     "name": "stdout",
     "output_type": "stream",
     "text": [
      "[0.49991709 0.9070504  0.00208343 0.1095109  0.71190464 0.01861402\n",
      " 0.49991709 0.9070504  0.00208343]\n",
      "Minimized Energy: 0.7539793210282202\n",
      "True GS Energy: 1.025\n",
      "Percent Difference: 26.441041850905343\n"
     ]
    },
    {
     "data": {
      "image/png": "[encoded data removed]",
      "text/plain": [
       "<Figure size 432x288 with 1 Axes>"
      ]
     },
     "metadata": {
      "needs_background": "light"
     },
     "output_type": "display_data"
    }
   ],
   "source": [
    "#plot the wavefunction\n",
    "print(optd)\n",
    "x_vals = np.linspace(-10,10,100)\n",
    "y = [psi(x_a, optd) for x_a in x_vals]\n",
    "v = [V(x_a) for x_a in x_vals]\n",
    "comp_avg = avg_energy(optd, 10**5)\n",
    "print(\"Minimized Energy: \"+str(comp_avg))\n",
    "print(\"True GS Energy: \"+ str(true_energy))\n",
    "print(\"Percent Difference: \" + str(100*(true_energy - comp_avg)/true_energy))\n",
    "plt.plot(x_vals,y)\n",
    "#plt.plot(x_vals,v)\n",
    "plt.grid()\n",
    "plt.show()"
   ]
  }
 ],
 "metadata": {
  "interpreter": {
   "hash": "617eb40fd466985893210fcf6dfa86b4a48494030010f760d59cb6ed33b6da17"
  },
  "kernelspec": {
   "display_name": "Python 3.10.2 64-bit",
   "language": "python",
   "name": "python3"
  },
  "language_info": {
   "codemirror_mode": {
    "name": "ipython",
    "version": 3
   },
   "file_extension": ".py",
   "mimetype": "text/x-python",
   "name": "python",
   "nbconvert_exporter": "python",
   "pygments_lexer": "ipython3",
   "version": "3.10.2"
  },
  "orig_nbformat": 4
 },
 "nbformat": 4,
 "nbformat_minor": 2
}
