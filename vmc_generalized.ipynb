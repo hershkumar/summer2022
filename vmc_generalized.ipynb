{
 "cells": [
  {
   "cell_type": "markdown",
   "metadata": {},
   "source": [
    "#### Generalizing the VMC to arbitrary number of parameters\n",
    "This now takes in a wavefunction with an arbitrary number of parameters, and then instead of \n",
    "generating a plot to find the minimum average energy, it uses the gradient descent algorithm\n",
    "to find the minimum.\n",
    "\n",
    "by changing the `num_params` variable, we vary the number of parameters that the method uses. We then define `sym_psi` which defines the trial wavefunction, in terms of `x` and the parameters. We then run a gradient descent optimizer to find the minimum value of the energy. "
   ]
  },
  {
   "cell_type": "code",
   "execution_count": null,
   "metadata": {},
   "outputs": [],
   "source": [
    "import numpy as np\n",
    "from matplotlib import pyplot as plt\n",
    "import random\n",
    "import sympy as sym\n",
    "from IPython.display import clear_output\n",
    "\n",
    "m = 1\n",
    "omega = 1\n",
    "lam = 0\n",
    "hbar = 1\n",
    "num_params = 3\n",
    "# from https://aip.scitation.org/doi/pdf/10.1063/5.0059800\n",
    "# define all the symbolic variables and expressions\n",
    "x = sym.Symbol('x')\n",
    "p = [sym.symbols('a%d' % i) for i in range(num_params)]\n",
    "# the wavefunction\n",
    "sym_psi = p[0]*sym.exp(-p[1]*(x + p[2])**2)\n",
    "#sym_psi = p[0]*sym.exp(-p[1]*(x + p[2])**2)\n",
    "\n",
    "sym_ddpsi = sym.diff(sym.diff(sym_psi, x), x)\n",
    "# the partial derivatives of the log of psi\n",
    "partials = [sym.diff(sym.log(sym_psi), p[i]) for i in range(num_params)]\n",
    "# functions that compute the gradient vector terms\n",
    "logpsis = [sym.lambdify([x,p], partials[i]) for i in range(num_params)]\n",
    "\n",
    "# define the potential\n",
    "def V(x_inp):\n",
    "    return 1/2 * m * omega**2 * x_inp**2 + lam * x_inp**4\n",
    "\n",
    "# define the wavefunction\n",
    "psi = sym.lambdify([x,p], sym_psi)\n",
    "\n",
    "# define the second derivative w.r.t x of the wavefunction\n",
    "ddpsi = sym.lambdify([x,p], sym_ddpsi)\n",
    "\n",
    "# defines the gradient of the log of psi wrt to the parameters\n",
    "def grad_log_psi(x_inp, params):\n",
    "    # this will return a vector of length len(params)\n",
    "    grad = np.zeros(len(params))\n",
    "    # now add in the derivatives with respect to each variable\n",
    "    for i in range(num_params):\n",
    "        grad[i] = logpsis[i](x_inp, params)\n",
    "    return grad\n",
    "\n",
    "# define the Hamiltonian applied to psi\n",
    "def Hpsi(x_inp, params):\n",
    "    return V(x_inp)*psi(x_inp,params) - hbar**2/(2*m) * ddpsi(x_inp, params)\n"
   ]
  },
  {
   "cell_type": "code",
   "execution_count": null,
   "metadata": {},
   "outputs": [],
   "source": [
    "\n",
    "# define the function that samples the probability distribution\n",
    "# uses the metropolis sampling method\n",
    "def sample(params, num_samples):\n",
    "    outputs = []\n",
    "    # pick the start point\n",
    "    x_t = 0\n",
    "    for _ in range(num_samples):\n",
    "        x_prime = x_t + random.uniform(-1,1)\n",
    "        \n",
    "        if (random.uniform(0,1) < psi(x_prime, params)**2/psi(x_t, params)**2):\n",
    "            x_t = x_prime\n",
    "        outputs.append(x_t)\n",
    "    return outputs\n",
    "\n",
    "# define a function that computes the average energy\n",
    "def avg_energy(params, N=10**4):\n",
    "    # get N sampled points\n",
    "    samples = sample(params, N)\n",
    "    # apply the function to every point\n",
    "    applied = [(1/psi(x_a, params) * Hpsi(x_a, params)) for x_a in samples]\n",
    "    return 1/N * sum(applied)\n",
    "\n",
    "def second_corrections():\n",
    "    return .5 + 3/4*lam + lam**2 *(-21/8)\n",
    "\n",
    "def fifth_corrections():\n",
    "    return .5 + 3/4*lam + lam**2 *(-21/8) + lam**3 *(333/16) - lam**4 * (30885/128) + lam**5 * (916731/256)\n",
    "# computes the gradient with respect to the parameters of the energy\n",
    "def gradient(params, N):\n",
    "    samples = sample(params, N)\n",
    "    # now compute the 3 different averages\n",
    "    energy_exp = 1/N * sum([(1/psi(x_a, params) * Hpsi(x_a, params)) for x_a in samples])\n",
    "    print(\"Average Energy: \" + str(energy_exp))\n",
    "    gradlogpsi_exp = 1/N * sum([grad_log_psi(x_a, params) for x_a in samples], 0)\n",
    "    both_exp = 1/N * sum([(1/psi(x_a, params) * grad_log_psi(x_a, params) * Hpsi(x_a, params)) for x_a in samples], 0)\n",
    "    return (2 * both_exp - 2 * energy_exp * gradlogpsi_exp)\n",
    "\n",
    "# write a gradient descent optimizer for the average energy\n",
    "def grad_opt(start_params, learning_rate=.1, max_iterations=1000, tolerance=.001, N=10**3):\n",
    "    # pick the starting position\n",
    "    params = start_params\n",
    "    hist = []\n",
    "    # iterate until we run out of iterations or less than tolerance\n",
    "    for it in range(max_iterations):\n",
    "        clear_output(wait=True)\n",
    "        # compute the gradient at that point\n",
    "        diff = learning_rate * gradient(params, N) \n",
    "        if all((abs(val) < tolerance) for val in diff):\n",
    "            print(\"All under tolerance\")\n",
    "            return hist\n",
    "        # make a step in the direction opposite the gradient\n",
    "        params = params - diff\n",
    "        # print(params)\n",
    "        hist.append(params)\n",
    "    return hist"
   ]
  },
  {
   "cell_type": "code",
   "execution_count": null,
   "metadata": {},
   "outputs": [],
   "source": [
    "start = [.5,.5,1]\n",
    "\n",
    "hist = grad_opt(start)\n",
    "optd = hist[-1]"
   ]
  },
  {
   "cell_type": "code",
   "execution_count": null,
   "metadata": {},
   "outputs": [],
   "source": [
    "#plot the wavefunction\n",
    "print(optd)\n",
    "x_vals = np.linspace(-10,10,100)\n",
    "y = [psi(x_a, optd) for x_a in x_vals]\n",
    "v = [V(x_a) for x_a in x_vals]\n",
    "comp_avg = avg_energy(optd, 10**5)\n",
    "print(f\"Minimized Energy: {comp_avg}\")\n",
    "true_energy = fifth_corrections()\n",
    "print(f\"True GS Energy: {true_energy}\")\n",
    "pdiff = 100*(true_energy -  comp_avg)/true_energy\n",
    "print(f\"Percent Difference: {pdiff}\")\n",
    "plt.plot(x_vals,y)\n",
    "#plt.plot(x_vals,v)\n",
    "plt.grid()\n",
    "plt.show()"
   ]
  },
  {
   "cell_type": "code",
   "execution_count": null,
   "metadata": {},
   "outputs": [],
   "source": [
    "en = [avg_energy(x) for x in hist]\n",
    "plt.plot(en)\n",
    "plt.title(\"Energy vs. Iteration\")\n",
    "plt.ylabel(\"Energy\")\n",
    "plt.xlabel(\"Iteration\")\n",
    "plt.show()"
   ]
  },
  {
   "cell_type": "code",
   "execution_count": null,
   "metadata": {},
   "outputs": [],
   "source": [
    "#generating the data for a lambda vs ground state energy plot\n",
    "lams5 = np.linspace(0, .2, 50)\n",
    "start = [.5,.5,.5]\n",
    "otd = grad_opt(start)[-1]\n",
    "es5 = []\n",
    "tes5 = []\n",
    "for l in lams5:\n",
    "    lam = l\n",
    "    es5.append(avg_energy(otd))\n",
    "    tes5.append(fifth_corrections())"
   ]
  },
  {
   "cell_type": "code",
   "execution_count": null,
   "metadata": {},
   "outputs": [],
   "source": [
    "#generating the data for a lambda vs ground state energy plot\n",
    "lams2 = np.linspace(0, .2, 50)\n",
    "start = [.5,.5,.5]\n",
    "es2 = []\n",
    "tes2 = []\n",
    "for l in lams2:\n",
    "    lam = l\n",
    "    es2.append(avg_energy(otd))\n",
    "    tes2.append(second_corrections())"
   ]
  },
  {
   "cell_type": "code",
   "execution_count": null,
   "metadata": {},
   "outputs": [],
   "source": [
    "plt.scatter(lams2, tes2, label=\"Second Order Corrections\")\n",
    "plt.scatter(lams2, es2,label=\"VMC\")\n",
    "plt.title(\"$\\lambda$ vs Avg. GS Energy\")\n",
    "plt.xlabel(\"$\\lambda$\")\n",
    "plt.ylabel(\"Avg. GS Energy\")\n",
    "plt.grid()\n",
    "plt.legend()\n",
    "plt.show()"
   ]
  },
  {
   "cell_type": "code",
   "execution_count": null,
   "metadata": {},
   "outputs": [],
   "source": [
    "plt.scatter(lams5, tes5, label=\"Fifth Order Corrections\")\n",
    "plt.scatter(lams5, es5,label=\"VMC\")\n",
    "plt.title(\"$\\lambda$ vs Avg. GS Energy\")\n",
    "plt.xlabel(\"$\\lambda$\")\n",
    "plt.ylabel(\"Avg. GS Energy\")\n",
    "plt.grid()\n",
    "plt.legend()\n",
    "plt.show()"
   ]
  },
  {
   "cell_type": "code",
   "execution_count": null,
   "metadata": {},
   "outputs": [],
   "source": [
    "plt.scatter(lams2, tes2, label=\"Second Order Corrections\")\n",
    "plt.scatter(lams5, tes5, label=\"Fifth Order Corrections\")\n",
    "plt.scatter(lams5, es5,label=\"VMC\")\n",
    "plt.title(\"$\\lambda$ vs Avg. GS Energy\")\n",
    "plt.xlabel(\"$\\lambda$\")\n",
    "plt.ylabel(\"Avg. GS Energy\")\n",
    "plt.grid()\n",
    "plt.legend()\n",
    "plt.show()"
   ]
  }
 ],
 "metadata": {
  "kernelspec": {
   "display_name": "Python 3.10.4 64-bit",
   "language": "python",
   "name": "python3"
  },
  "language_info": {
   "codemirror_mode": {
    "name": "ipython",
    "version": 3
   },
   "file_extension": ".py",
   "mimetype": "text/x-python",
   "name": "python",
   "nbconvert_exporter": "python",
   "pygments_lexer": "ipython3",
   "version": "3.10.4"
  },
  "orig_nbformat": 4,
  "vscode": {
   "interpreter": {
    "hash": "916dbcbb3f70747c44a77c7bcd40155683ae19c65e1c03b4aa3499c5328201f1"
   }
  }
 },
 "nbformat": 4,
 "nbformat_minor": 2
}
