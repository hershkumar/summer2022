{
 "cells": [
  {
   "cell_type": "markdown",
   "metadata": {},
   "source": [
    "## Neural Network from scratch (MNIST classifier)\n",
    "To learn about basic neural network techniques, I want to write a simple classifier for handwritten digits.\n"
   ]
  },
  {
   "cell_type": "code",
   "execution_count": 10,
   "metadata": {},
   "outputs": [],
   "source": [
    "import idx2numpy\n",
    "import numpy as np\n",
    "from matplotlib import pyplot as plt\n",
    "\n",
    "# read in the datasets\n",
    "# first get the training data\n",
    "tr_imgs = idx2numpy.convert_from_file('mnist\\\\train-images.idx3-ubyte')\n",
    "tr_labels = idx2numpy.convert_from_file('mnist\\\\train-labels.idx1-ubyte')\n",
    "\n",
    "val_imgs = idx2numpy.convert_from_file('mnist\\\\t10k-images.idx3-ubyte')\n",
    "val_labels = idx2numpy.convert_from_file('mnist\\\\t10k-labels.idx1-ubyte')\n",
    "\n",
    "# define the sigmoid activation function and the derivative of it\n",
    "# the activation function take in a weighted sum of neurons, and spit out something that can be fed\n",
    "# to the next layer\n",
    "def sigmoid(x):\n",
    "    return 1/(1+ np.e**(-x))\n",
    "def dsigmoid(x):\n",
    "    return (np.e**(-x))/((np.e**(-x)+1)**2)\n",
    "\n",
    "\n",
    "# softmax function takes in a vector and converts the input vector elements into probabilities (sort of a normalization function)\n",
    "def softmax(x):\n",
    "    exp_element=np.exp(x-x.max())\n",
    "    return exp_element/np.sum(exp_element,axis=0)\n",
    "\n",
    "#derivative of softmax\n",
    "def dsoftmax(x):\n",
    "    exp_element=np.exp(x-x.max())\n",
    "    return exp_element/np.sum(exp_element,axis=0)*(1-exp_element/np.sum(exp_element,axis=0))"
   ]
  },
  {
   "cell_type": "code",
   "execution_count": 11,
   "metadata": {},
   "outputs": [],
   "source": [
    "# now to set up the neural network, of 3 layers: input, hidden, and output\n",
    "# inputs will be one for every pixel of the images, which is 28 by 28\n",
    "num_inputs = 28**2\n",
    "# number of nodes in the second layer\n",
    "num_hidden = 128\n",
    "# 10 possible digits (0-9), so we have 10 output nodes\n",
    "num_outputs = 10"
   ]
  },
  {
   "cell_type": "code",
   "execution_count": 12,
   "metadata": {},
   "outputs": [],
   "source": [
    "# now we define a function that takes in two numbers, the number of inputs and the number of outputs of the layer,\n",
    "# returns a matrix of elements that are either -1 or 1, randomly chosen, of size (num_inputs, num_outputs)\n",
    "def gen_layer(inputs, outputs):\n",
    "    layer = np.random.uniform(-1.0, 1.0, size=(inputs, outputs))\n",
    "    # normalize the values\n",
    "    layer = layer/np.sqrt(inputs*outputs)\n",
    "    return layer.astype(np.float32)\n",
    "\n",
    "\n",
    "# generate the matrices necessary\n",
    "layer1 = gen_layer(num_inputs, num_hidden)\n",
    "layer2 = gen_layer(num_hidden, num_outputs)\n",
    "\n",
    "def iteration(x, y):\n",
    "    # generates a vector of length corresponding to the number of outputs\n",
    "    # this is a vector of all 0s, except for a 1 in the spot corresponding to the correct number (y)\n",
    "    targets = np.zeros((len(y), 10), np.float32)\n",
    "    targets[range(targets.shape[0]), y] = 1\n",
    "\n",
    "    # we multiply the input matrix with the weights, and pass that through the activation function\n",
    "    x_post1 = x.dot(layer1)\n",
    "    # pass the output of the multiplication through the activation function\n",
    "    x_post1s = sigmoid(x_post1)\n",
    "    # the next layer is that output multiplied against the next matrix\n",
    "    x_post2 = x_post1s.dot(layer2)\n",
    "    # now use the softmax to normalize the outputs\n",
    "    output = softmax(x_post2)\n",
    "\n",
    "    # Now we want to compute the error (distance from the correct answer)\n",
    "    error = 2 * (output - targets)/output.shape[0]* dsoftmax(x_post2)\n",
    "\n",
    "    # now we get the backpropogation updates, starting with the last layer\n",
    "    update2 = x_post1s.T @ error\n",
    "    # update the error\n",
    "    error = ((layer2).dot(error.T)).T*dsigmoid(x_post1)\n",
    "    update1 = x.T @ error\n",
    "\n",
    "    return output, update1, update2\n"
   ]
  },
  {
   "cell_type": "code",
   "execution_count": 13,
   "metadata": {},
   "outputs": [
    {
     "name": "stdout",
     "output_type": "stream",
     "text": [
      "For 0th epoch: train accuracy: 0.062 | validation accuracy:0.078\n",
      "For 500th epoch: train accuracy: 0.570 | validation accuracy:0.599\n",
      "For 1000th epoch: train accuracy: 0.688 | validation accuracy:0.696\n",
      "For 1500th epoch: train accuracy: 0.656 | validation accuracy:0.733\n",
      "For 2000th epoch: train accuracy: 0.797 | validation accuracy:0.752\n",
      "For 2500th epoch: train accuracy: 0.773 | validation accuracy:0.769\n",
      "For 3000th epoch: train accuracy: 0.711 | validation accuracy:0.779\n",
      "For 3500th epoch: train accuracy: 0.742 | validation accuracy:0.788\n",
      "For 4000th epoch: train accuracy: 0.805 | validation accuracy:0.797\n",
      "For 4500th epoch: train accuracy: 0.828 | validation accuracy:0.804\n",
      "For 5000th epoch: train accuracy: 0.805 | validation accuracy:0.809\n",
      "For 5500th epoch: train accuracy: 0.742 | validation accuracy:0.812\n",
      "For 6000th epoch: train accuracy: 0.836 | validation accuracy:0.813\n",
      "For 6500th epoch: train accuracy: 0.805 | validation accuracy:0.816\n",
      "For 7000th epoch: train accuracy: 0.828 | validation accuracy:0.820\n",
      "For 7500th epoch: train accuracy: 0.883 | validation accuracy:0.821\n",
      "For 8000th epoch: train accuracy: 0.789 | validation accuracy:0.822\n",
      "For 8500th epoch: train accuracy: 0.789 | validation accuracy:0.823\n",
      "For 9000th epoch: train accuracy: 0.828 | validation accuracy:0.824\n",
      "For 9500th epoch: train accuracy: 0.773 | validation accuracy:0.825\n",
      "For 10000th epoch: train accuracy: 0.766 | validation accuracy:0.825\n",
      "For 10500th epoch: train accuracy: 0.805 | validation accuracy:0.826\n",
      "For 11000th epoch: train accuracy: 0.852 | validation accuracy:0.826\n",
      "For 11500th epoch: train accuracy: 0.844 | validation accuracy:0.827\n",
      "For 12000th epoch: train accuracy: 0.836 | validation accuracy:0.829\n",
      "For 12500th epoch: train accuracy: 0.805 | validation accuracy:0.829\n",
      "For 13000th epoch: train accuracy: 0.797 | validation accuracy:0.830\n",
      "For 13500th epoch: train accuracy: 0.805 | validation accuracy:0.830\n",
      "For 14000th epoch: train accuracy: 0.859 | validation accuracy:0.830\n",
      "For 14500th epoch: train accuracy: 0.859 | validation accuracy:0.830\n",
      "For 15000th epoch: train accuracy: 0.789 | validation accuracy:0.830\n",
      "For 15500th epoch: train accuracy: 0.820 | validation accuracy:0.830\n",
      "For 16000th epoch: train accuracy: 0.797 | validation accuracy:0.830\n",
      "For 16500th epoch: train accuracy: 0.805 | validation accuracy:0.830\n",
      "For 17000th epoch: train accuracy: 0.773 | validation accuracy:0.830\n",
      "For 17500th epoch: train accuracy: 0.812 | validation accuracy:0.829\n",
      "For 18000th epoch: train accuracy: 0.797 | validation accuracy:0.830\n",
      "For 18500th epoch: train accuracy: 0.812 | validation accuracy:0.829\n",
      "For 19000th epoch: train accuracy: 0.828 | validation accuracy:0.828\n",
      "For 19500th epoch: train accuracy: 0.820 | validation accuracy:0.826\n"
     ]
    }
   ],
   "source": [
    "# now we need to train the model\n",
    "# This uses Stochastic Gradient Descent\n",
    "# We generate batches of training data, randomly chosen from all the training data\n",
    "epochs = 10000\n",
    "rate = .001\n",
    "size = 128\n",
    "\n",
    "losses,accuracies,val_accuracies=[],[],[]\n",
    "\n",
    "for i in range(epochs):\n",
    "        \n",
    "    # sample the indices of the training data\n",
    "    sample = np.random.randint(0, tr_imgs.shape[0], size=(size))\n",
    "    x = tr_imgs[sample].reshape((-1, num_inputs))\n",
    "    y = tr_labels[sample]\n",
    "\n",
    "    # pass the training data to the iteration function\n",
    "    output, update1, update2 = iteration(x, y)\n",
    "\n",
    "    # get the accuracy of the model currently\n",
    "    category=np.argmax(output,axis=1)\n",
    "    accuracy=(category==y).mean()\n",
    "    accuracies.append(accuracy)\n",
    "    \n",
    "    loss=((category-y)**2).mean()\n",
    "    losses.append(loss.item())\n",
    "\n",
    "    # update the layers\n",
    "    layer1 = layer1 - rate * update1\n",
    "    layer2 = layer2 - rate * update2\n",
    "\n",
    "    # test it on the validation data\n",
    "    if(i%20==0):    \n",
    "        val_imgs=val_imgs.reshape((-1, num_inputs))\n",
    "        val_out=np.argmax(softmax(sigmoid(val_imgs.dot(layer1)).dot(layer2)),axis=1)\n",
    "        val_acc=(val_out==val_labels).mean()\n",
    "        val_accuracies.append(val_acc.item())\n",
    "    # print out occasional updates\n",
    "    if(i%500==0): print(f'For {i}th epoch: train accuracy: {accuracy:.3f} | validation accuracy:{val_acc:.3f}')"
   ]
  },
  {
   "cell_type": "code",
   "execution_count": 14,
   "metadata": {},
   "outputs": [
    {
     "data": {
      "image/png": "[encoded data removed]",
      "text/plain": [
       "<Figure size 432x288 with 1 Axes>"
      ]
     },
     "metadata": {
      "needs_background": "light"
     },
     "output_type": "display_data"
    }
   ],
   "source": [
    "# plotting the accuracy\n",
    "plt.ylim(-0.1, 1.1)\n",
    "plt.title(\"Training Set Accuracies\")\n",
    "plt.plot(accuracies)\n",
    "plt.show()"
   ]
  },
  {
   "cell_type": "code",
   "execution_count": 15,
   "metadata": {},
   "outputs": [
    {
     "data": {
      "image/png": "[encoded data removed]",
      "text/plain": [
       "<Figure size 432x288 with 1 Axes>"
      ]
     },
     "metadata": {
      "needs_background": "light"
     },
     "output_type": "display_data"
    }
   ],
   "source": [
    "plt.title(\"Validation Dataset Accuracies\")\n",
    "plt.plot(val_accuracies)\n",
    "plt.show()"
   ]
  }
 ],
 "metadata": {
  "interpreter": {
   "hash": "617eb40fd466985893210fcf6dfa86b4a48494030010f760d59cb6ed33b6da17"
  },
  "kernelspec": {
   "display_name": "Python 3.10.2 64-bit",
   "language": "python",
   "name": "python3"
  },
  "language_info": {
   "codemirror_mode": {
    "name": "ipython",
    "version": 3
   },
   "file_extension": ".py",
   "mimetype": "text/x-python",
   "name": "python",
   "nbconvert_exporter": "python",
   "pygments_lexer": "ipython3",
   "version": "3.10.2"
  },
  "orig_nbformat": 4
 },
 "nbformat": 4,
 "nbformat_minor": 2
}
